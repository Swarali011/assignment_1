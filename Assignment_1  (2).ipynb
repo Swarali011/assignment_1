{
 "cells": [
  {
   "cell_type": "code",
   "execution_count": 1,
   "id": "37e2619b",
   "metadata": {},
   "outputs": [
    {
     "name": "stdout",
     "output_type": "stream",
     "text": [
      "Enter the number of days:6\n",
      "Number of days= 6\n",
      "YEAR = 0\n",
      "WEEKS = 0\n"
     ]
    }
   ],
   "source": [
    "#Q1.Write a program to convert specified days into years,weeks and days.take user input.Note:Ignore leap year \n",
    "days=int(input(\"Enter the number of days:\"))\n",
    "print(\"Number of days=\",days)\n",
    "years=days//365\n",
    "print(\"YEAR =\",years)\n",
    "weeks=days//7\n",
    "print(\"WEEKS =\",weeks)\n"
   ]
  },
  {
   "cell_type": "code",
   "execution_count": 2,
   "id": "d007d307",
   "metadata": {},
   "outputs": [
    {
     "name": "stdout",
     "output_type": "stream",
     "text": [
      "Enter basic salary of employee:80\n",
      "Gross salary of employee: 160.0\n"
     ]
    }
   ],
   "source": [
    "#Q2.write a Python program to input basic  salary of an employee and calculate its gross salary according to following :\n",
    "#Basic salary <=10000:HRA=20% DA=80%\n",
    "#Basic salary <=20000:HRA=30% DA=90%\n",
    "#Basic salary <=20000:HRA=35% DA=95%\n",
    "basic_sal=int(input(\"Enter basic salary of employee:\"))\n",
    "if basic_sal<=10000:\n",
    "    hra=0.20*basic_sal\n",
    "    da=0.80*basic_sal\n",
    "elif basic_sal<=20000:\n",
    "    hra=0.30*basic_sal\n",
    "    da=0.90*basic_sal\n",
    "else:\n",
    "    hra=0.35*basic_sal\n",
    "    da=0.95*basic_sal\n",
    "\n",
    "gross_sal=basic_sal+hra+da\n",
    "print(\"Gross salary of employee:\",gross_sal)"
   ]
  },
  {
   "cell_type": "code",
   "execution_count": 3,
   "id": "e57edef4",
   "metadata": {},
   "outputs": [
    {
     "name": "stdout",
     "output_type": "stream",
     "text": [
      "Enter the number of units:89\n",
      "bill is  89.505\n"
     ]
    }
   ],
   "source": [
    "#Q3.write a python program to input electricity unit charges and calculate total electricity bill according to given condition\n",
    "#for first 50 units rs.0.50/units \n",
    "#for next 100 units rs.0.75/unit \n",
    "#for next 100 units rs.1.25/unit\n",
    "#for unit above 250 rs.1.50/unit \n",
    "#An additional surcharge of 17% is added to the bill\n",
    "units=float(input(\"Enter the number of units:\"))\n",
    "if units<=50:\n",
    "    bill = units * 0.50\n",
    "elif units<=150:\n",
    "    bill=(50*0.50)+(units -50 *0.75)\n",
    "elif units<=250:\n",
    "       bill=(50 *0.50)+(100 * 0.75)+(100 *1.25)+(units - 250 *1.50)\n",
    "else:\n",
    "    bill=(50*0.50)+(100*0.75)+(100*1.25)+((units-250)*1.50)\n",
    "    \n",
    "surcharge=bill*0.17\n",
    "total_bill=bill+surcharge\n",
    "print(\"bill is \",total_bill)"
   ]
  },
  {
   "cell_type": "code",
   "execution_count": 4,
   "id": "50361f4f",
   "metadata": {},
   "outputs": [
    {
     "name": "stdout",
     "output_type": "stream",
     "text": [
      "1 \n",
      "2 2 \n",
      "3 3 3 \n",
      "4 4 4 4 \n",
      "5 5 5 5 5 \n"
     ]
    }
   ],
   "source": [
    "#4. Write a Python program to print the given number patterns.\n",
    "#1\n",
    "#2 2\n",
    "#3 3 3\n",
    "#4 4 4 4\n",
    "#5 5 5 5 5\n",
    "row=5\n",
    "for i in range (1,row+1):\n",
    "    for j in range(i):\n",
    "        print(i,end=' ')\n",
    "    print()"
   ]
  },
  {
   "cell_type": "code",
   "execution_count": 5,
   "id": "03a04af8",
   "metadata": {},
   "outputs": [
    {
     "name": "stdout",
     "output_type": "stream",
     "text": [
      "Enter the number:7\n",
      "Product of digits= 7\n"
     ]
    }
   ],
   "source": [
    "#5. Write a Python program to calculate product of digits of a number. Read value of n from user.\n",
    "n=int(input(\"Enter the number:\"))\n",
    "product=1\n",
    "while n>0:\n",
    "    digit=n%10\n",
    "    product=product*digit\n",
    "    n=n//10\n",
    "    print(\"Product of digits=\",product)"
   ]
  },
  {
   "cell_type": "code",
   "execution_count": 6,
   "id": "e6272045",
   "metadata": {},
   "outputs": [
    {
     "name": "stdout",
     "output_type": "stream",
     "text": [
      "String values: ['Hello', 'World']\n",
      "Strings in upper case: ['HELLO', 'WORLD']\n",
      "Sum of integer values: 124\n",
      "Is 56 present in the list? False\n",
      "Reversed list: ['World', 23.45, 'Hello', 12, 67, 45]\n",
      "List after deleting 'Hello': [45, 67, 12, 23.45, 'World']\n",
      "List after inserting 36 at 5th position: [45, 67, 12, 23.45, 36, 'World']\n",
      "Total number of elements in the list: 6\n",
      "Values from 2nd to 5th index: [12, 23.45, 36, 'World']\n",
      "List after appending [34, 'Pune']: [45, 67, 12, 23.45, 36, 'World', 34, 'Pune']\n",
      "List after deleting the last element: [45, 67, 12, 23.45, 36, 'World', 34]\n"
     ]
    }
   ],
   "source": [
    "#6. Create a list of elements like: x = [45, 67, 12, ‘Hello’, 23.45, ‘World’] and perform following operations\n",
    "#1. Extract only string values from this list.\n",
    "#2. Create a new list with strings in upper case.\n",
    "#3. Find the addition of integer values\n",
    "#4. Check that the value 56 is present in it or not.\n",
    "#5. Print the list in reverse order.\n",
    "#6. Delete the string ‘Hello’ from it.\n",
    "#7. Insert a new value of 36 at 5th position in list.\n",
    "#8. Count total number of elements in list now.\n",
    "#9. Extract the values from 2nd index to 5th index.\n",
    "#10. Append [34, ‘Pune’] to this list.\n",
    "#11. Delete the last element from list.\n",
    "\n",
    "x=[45,67,12,\"Hello\",23.45,\"World\"]\n",
    "\n",
    "# 1. Extract only string values from this list\n",
    "string_values = [item for item in x if isinstance(item, str)]\n",
    "print(\"String values:\", string_values)\n",
    "\n",
    "# 2. Create a new list with strings in upper case\n",
    "upper_case = [item.upper() for item in string_values]\n",
    "print(\"Strings in upper case:\", upper_case)\n",
    "\n",
    "# 3. Find the addition of integer values\n",
    "integer_sum = sum(item for item in x if isinstance(item, int))\n",
    "print(\"Sum of integer values:\", integer_sum)\n",
    "\n",
    "# 4. Check that the value 56 is present in it or not\n",
    "is_56_present = 56 in x\n",
    "print(\"Is 56 present in the list?\", is_56_present)\n",
    "\n",
    "# 5. Print the list in reverse order\n",
    "reversed_list = x[::-1]\n",
    "print(\"Reversed list:\", reversed_list)\n",
    "\n",
    "# 6. Delete the string 'Hello' from it\n",
    "if 'Hello' in x:\n",
    "    x.remove('Hello')\n",
    "print(\"List after deleting 'Hello':\", x)\n",
    "\n",
    "# 7. Insert a new value of 36 at 5th position in list\n",
    "x.insert(4, 36)  # Note: 5th position means index 4\n",
    "print(\"List after inserting 36 at 5th position:\", x)\n",
    "\n",
    "# 8. Count total number of elements in list now\n",
    "count_elements = len(x)\n",
    "print(\"Total number of elements in the list:\", count_elements)\n",
    "\n",
    "# 9. Extract the values from 2nd index to 5th index\n",
    "sub_list = x[2:6]\n",
    "print(\"Values from 2nd to 5th index:\", sub_list)\n",
    "\n",
    "# 10. Append [34, 'Pune'] to this list\n",
    "x.extend([34, 'Pune'])\n",
    "print(\"List after appending [34, 'Pune']:\", x)\n",
    "\n",
    "# 11. Delete the last element from list\n",
    "x.pop()\n",
    "print(\"List after deleting the last element:\", x)\n"
   ]
  },
  {
   "cell_type": "code",
   "execution_count": 7,
   "id": "7ba437ca",
   "metadata": {},
   "outputs": [
    {
     "name": "stdout",
     "output_type": "stream",
     "text": [
      "Sorted tuple [12.3, 23.8, 45.6, 56.7, 78.8]\n",
      "IS 50 present: False\n",
      "Converting to set {12.3, 45.6, 78.8, 23.8, 56.7}\n"
     ]
    }
   ],
   "source": [
    "#7. Create a tuple of elements with 5 float values in it and perform following operations.\n",
    "#1. Print the data in sorted manner.\n",
    "#2. Check to see that the element 50 is present in it.\n",
    "#3. Convert this tuple in set.\n",
    "tuplee=(45.6,23.8,78.8,12.3,56.7)\n",
    "sorted_tuple=sorted(tuplee)\n",
    "print(\"Sorted tuple\",sorted_tuple)\n",
    "is_present=50 in tuplee\n",
    "print(\"IS 50 present:\",is_present)\n",
    "float_set=set(tuplee)\n",
    "print(\"Converting to set\",float_set)\n"
   ]
  },
  {
   "cell_type": "code",
   "execution_count": 8,
   "id": "90e985d8",
   "metadata": {},
   "outputs": [
    {
     "name": "stdout",
     "output_type": "stream",
     "text": [
      "{'a': 'apple', 'b': 'ball', 'c': 'cat', 'd': 'doll', 'k': 'king'}\n",
      "{'a': 'apple', 'b': 'ball', 'c': 'cat', 'd': 'doll', 'k': 'king', 'z': 'ZEBRA'}\n",
      "{'a': 'apple', 'b': 'ball', 'c': 'cat', 'd': 'dog', 'k': 'king', 'z': 'ZEBRA'}\n",
      "Length of dictionary: 6\n"
     ]
    }
   ],
   "source": [
    "#8. Create a dictionary of elements: {‘a’: ‘apple’, ‘b’: ‘ball’, ‘c’: ‘cat’, ‘d’: ‘doll’, ‘k’ ‘king’} and perform following operations.\n",
    "#1. Access the data at key ‘k’.\n",
    "#2. Add a new values ‘z’: ‘zebra’\n",
    "#3. Replace the contents of ‘d’ as ‘dog’\n",
    "#4. Print all the values from this dictionary.\n",
    "#5. Find the length of this dictionary.\n",
    "dic={'a': 'apple', 'b': 'ball', 'c': 'cat', 'd': 'doll', 'k': 'king'} \n",
    "print(dic)\n",
    "dic['k']\n",
    "dic['z']=\"ZEBRA\"\n",
    "print(dic)\n",
    "dic['d']='dog'\n",
    "print(dic)\n",
    "print(\"Length of dictionary:\",len(dic))"
   ]
  },
  {
   "cell_type": "code",
   "execution_count": 9,
   "id": "9f17605d",
   "metadata": {},
   "outputs": [
    {
     "name": "stdout",
     "output_type": "stream",
     "text": [
      "[23, 52, 37, 89, 17]\n",
      "Second largest is:\n"
     ]
    },
    {
     "data": {
      "text/plain": [
       "52"
      ]
     },
     "execution_count": 9,
     "metadata": {},
     "output_type": "execute_result"
    }
   ],
   "source": [
    "#9. Write a program to find the second largest element in a list.\n",
    "list1=[23,52,37,89,17]\n",
    "print(list1)\n",
    "list1.sort(reverse=True)\n",
    "print(\"Second largest is:\")\n",
    "list1[1]\n"
   ]
  },
  {
   "cell_type": "code",
   "execution_count": 10,
   "id": "f54449ca",
   "metadata": {},
   "outputs": [
    {
     "name": "stdout",
     "output_type": "stream",
     "text": [
      "['silver', 'gold', 'iron', 'aluminium', 'copper', 'brass', 'bronze']\n",
      "['silver', 'gold', 'iron', 'aluminium', 'brass', 'bronze']\n"
     ]
    }
   ],
   "source": [
    "#10. This is a list of some metallic elements.\n",
    "#metals = [ 'silver','gold', ... ]\n",
    "#Make a new list that is almost identical to the metals list: the new\n",
    "#contains the same items, in the same order, except that it does NOT\n",
    "#contain the item 'copper'.\n",
    "metals=['silver','gold','iron','aluminium','copper','brass','bronze']\n",
    "print(metals)\n",
    "metals1=[n for n in metals if n!='copper']\n",
    "print(metals1)"
   ]
  },
  {
   "cell_type": "code",
   "execution_count": null,
   "id": "65e6b09d",
   "metadata": {},
   "outputs": [],
   "source": []
  }
 ],
 "metadata": {
  "kernelspec": {
   "display_name": "Python 3 (ipykernel)",
   "language": "python",
   "name": "python3"
  },
  "language_info": {
   "codemirror_mode": {
    "name": "ipython",
    "version": 3
   },
   "file_extension": ".py",
   "mimetype": "text/x-python",
   "name": "python",
   "nbconvert_exporter": "python",
   "pygments_lexer": "ipython3",
   "version": "3.10.9"
  }
 },
 "nbformat": 4,
 "nbformat_minor": 5
}
