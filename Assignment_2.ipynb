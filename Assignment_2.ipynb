{
 "cells": [
  {
   "cell_type": "code",
   "execution_count": 1,
   "id": "8c154ba3",
   "metadata": {},
   "outputs": [],
   "source": [
    "import tkinter as tk\n",
    "from tkinter import BooleanVar\n",
    "from tkinter import scrolledtext\n",
    "from tkinter.ttk import *\n",
    "from tkinter import messagebox "
   ]
  },
  {
   "cell_type": "code",
   "execution_count": 2,
   "id": "e850d5f7",
   "metadata": {},
   "outputs": [
    {
     "name": "stdout",
     "output_type": "stream",
     "text": [
      "False\n",
      "False\n",
      "False\n",
      "True\n",
      "False\n"
     ]
    }
   ],
   "source": [
    "#2. Write a Python function to find whether the number if prime or not.\n",
    "#def isPrime(num)\n",
    "def isPrime(num):\n",
    "\n",
    "    if num <= 1:\n",
    "        return False\n",
    "    \n",
    "\n",
    "    if num <= 3: #as 2 and 3 are prime numbers \n",
    "        return True\n",
    "    \n",
    "    \n",
    "    for i in range(2, int(num**2) + 1):\n",
    "        if num % i == 0:\n",
    "            return False\n",
    "print(isPrime(7))\n",
    "print(isPrime(1))\n",
    "print(isPrime(9))\n",
    "print(isPrime(2))\n",
    "print(isPrime(4))\n",
    "    "
   ]
  },
  {
   "cell_type": "code",
   "execution_count": 3,
   "id": "a175f58b",
   "metadata": {},
   "outputs": [
    {
     "name": "stdout",
     "output_type": "stream",
     "text": [
      "True\n",
      "False\n",
      "True\n",
      "False\n"
     ]
    }
   ],
   "source": [
    "#3. Write a function is_palindrome(string) that takes a string as input and returns\n",
    "#True if the string reads the same backward as forward (e.g., \"racecar\" is a palindrome).\n",
    "def is_palindrome(string):\n",
    "\n",
    "    string = string.lower()\n",
    "    \n",
    "    \n",
    "    return string == string[::-1]\n",
    "\n",
    "print(is_palindrome(\"racecar\"))  # True\n",
    "print(is_palindrome(\"Swarali\"))   \n",
    "print(is_palindrome(\"LOL\"))  \n",
    "print(is_palindrome(\"Was it a car or a cat I saw\"))  \n"
   ]
  },
  {
   "cell_type": "code",
   "execution_count": 4,
   "id": "0a4c4dd9",
   "metadata": {},
   "outputs": [
    {
     "name": "stdout",
     "output_type": "stream",
     "text": [
      "[3, 2, 1]\n",
      "['d', 'c', 'b', 'a']\n",
      "['l', 'o', 'l']\n"
     ]
    }
   ],
   "source": [
    "#4. Write a function reverse_list(data) that takes a list as input and returns a new list\n",
    "#with the elements in reverse order (e.g., reverse_list([1, 2, 3]) returns [3, 2, 1]).\n",
    "def reverse_list(data):\n",
    "    \n",
    "    reversed_list = data[::-1]\n",
    "    return reversed_list\n",
    "\n",
    "\n",
    "print(reverse_list([1, 2, 3]))  \n",
    "print(reverse_list(['a', 'b', 'c', 'd']))\n",
    "\n",
    "print(reverse_list(['l','o','l']))  \n",
    "\n"
   ]
  },
  {
   "cell_type": "code",
   "execution_count": 5,
   "id": "da4ccf9c",
   "metadata": {},
   "outputs": [
    {
     "name": "stdout",
     "output_type": "stream",
     "text": [
      "Successfully wrote content to {'test.txt'}\n"
     ]
    }
   ],
   "source": [
    "#5. Write a function write_file(filename, content) that takes a filename and\n",
    "#content as input and writes the content to the specified file.\n",
    "def write_file(filename, content):\n",
    "    try:\n",
    "        with open(filename, 'w') as file:\n",
    "            file.write(content)\n",
    "        print(\"Successfully wrote content to\", {filename})\n",
    "    except IOError:\n",
    "        print(\"Error: Could not write to\", {filename})\n",
    "\n",
    "\n",
    "filename = \"test.txt\"\n",
    "content = \"\"\" Helloo This is a sample text.\n",
    "It will be written to a file.\n",
    "Goodbye!\"\"\"\n",
    "write_file(filename, content)"
   ]
  },
  {
   "cell_type": "code",
   "execution_count": 6,
   "id": "0c5e7911",
   "metadata": {},
   "outputs": [
    {
     "name": "stdout",
     "output_type": "stream",
     "text": [
      "Successfully copied content from Source1.txt to destination.txt\n"
     ]
    }
   ],
   "source": [
    "#6. Write a function copy_file(source_filename, destination_filename) that\n",
    "#takes the source and destination filenames as input and copies the content of the source\n",
    "#file to the destination file. Handle cases where the source file doesn't exist.\n",
    "def copy_file(source_filename, destination_filename):\n",
    "    try:\n",
    "        with open(source_filename, 'r') as source_file:\n",
    "            content = source_file.read()\n",
    "        \n",
    "        with open(destination_filename, 'w') as destination_file:\n",
    "            destination_file.write(content)\n",
    "        \n",
    "        print(f\"Successfully copied content from {source_filename} to {destination_filename}\")\n",
    "    \n",
    "    except FileNotFoundError:\n",
    "        print(f\"Error: Source file '{source_filename}' not found.\")\n",
    "    \n",
    "    except IOError as e:\n",
    "        print(f\"Error: Unable to copy file. {e}\")\n",
    "    \n",
    "source_filename = \"Source1.txt\"\n",
    "destination_filename = \"destination.txt\"\n",
    "copy_file(source_filename, destination_filename)"
   ]
  },
  {
   "cell_type": "code",
   "execution_count": 7,
   "id": "434ff25c",
   "metadata": {},
   "outputs": [
    {
     "name": "stdout",
     "output_type": "stream",
     "text": [
      "Array 1: [1 2 3]\n",
      "Array 2: [4 5 6]\n",
      "Dot product: 32\n"
     ]
    }
   ],
   "source": [
    "#7. Implement a function to calculate the dot product of two NumPy arrays.\n",
    "import numpy as np\n",
    "\n",
    "def dot_product(array1, array2):\n",
    "    # Calculate the dot product using numpy's dot function\n",
    "    result = np.dot(array1, array2)\n",
    "    return result\n",
    "\n",
    "# Example usage:\n",
    "array1 = np.array([1, 2, 3])\n",
    "array2 = np.array([4, 5, 6])\n",
    "\n",
    "print(\"Array 1:\", array1)\n",
    "print(\"Array 2:\", array2)\n",
    "\n",
    "dot_result = dot_product(array1, array2)\n",
    "print(\"Dot product:\", dot_result)"
   ]
  },
  {
   "cell_type": "code",
   "execution_count": null,
   "id": "baae05b3",
   "metadata": {},
   "outputs": [],
   "source": [
    "#8. Implement a GUI with a radio button selection for choosing a favorite color (e.g., red,\n",
    "#green, blue). Change the background color of the window based on the selected radio\n",
    "#button.\n",
    "\n",
    "def change_color():\n",
    "    color = selected_color.get()\n",
    "    if color == 1:\n",
    "        root.configure(background='red')\n",
    "    elif color == 2:\n",
    "        root.configure(background='green')\n",
    "    elif color == 3:\n",
    "        root.configure(background='blue')\n",
    "\n",
    "# Create the main window\n",
    "root = tk.Tk()\n",
    "root.title(\"Favorite Color Selector\")\n",
    "# Variable to store the selected color\n",
    "selected_color = tk.IntVar()\n",
    "\n",
    "# Function to change the color based on selection\n",
    "selected_color.trace_add('write', lambda *args: change_color())\n",
    "\n",
    "# Create radio buttons for color selection\n",
    "red_radio = tk.Radiobutton(root, text=\"Red\", variable=selected_color, value=1)\n",
    "green_radio = tk.Radiobutton(root, text=\"Green\", variable=selected_color, value=2)\n",
    "blue_radio = tk.Radiobutton(root, text=\"Blue\", variable=selected_color, value=3)\n",
    "\n",
    "# Place the radio buttons in the window\n",
    "red_radio.pack(pady=5)\n",
    "green_radio.pack(pady=5)\n",
    "blue_radio.pack(pady=5)\n",
    "# Start the main GUI loop\n",
    "root.mainloop()"
   ]
  }
 ],
 "metadata": {
  "kernelspec": {
   "display_name": "Python 3 (ipykernel)",
   "language": "python",
   "name": "python3"
  },
  "language_info": {
   "codemirror_mode": {
    "name": "ipython",
    "version": 3
   },
   "file_extension": ".py",
   "mimetype": "text/x-python",
   "name": "python",
   "nbconvert_exporter": "python",
   "pygments_lexer": "ipython3",
   "version": "3.10.9"
  }
 },
 "nbformat": 4,
 "nbformat_minor": 5
}
