{
 "cells": [
  {
   "cell_type": "markdown",
   "id": "64912654",
   "metadata": {},
   "source": [
    "# list\n"
   ]
  },
  {
   "cell_type": "code",
   "execution_count": 10,
   "id": "8b79d258",
   "metadata": {},
   "outputs": [],
   "source": [
    "li = [12,13,14,15,89]"
   ]
  },
  {
   "cell_type": "code",
   "execution_count": 12,
   "id": "a4d5a57d",
   "metadata": {},
   "outputs": [
    {
     "name": "stdout",
     "output_type": "stream",
     "text": [
      "[12, 13, 14, 15, 89]\n"
     ]
    }
   ],
   "source": [
    "print(li)"
   ]
  },
  {
   "cell_type": "code",
   "execution_count": 6,
   "id": "969bfbc0",
   "metadata": {},
   "outputs": [
    {
     "data": {
      "text/plain": [
       "list"
      ]
     },
     "execution_count": 6,
     "metadata": {},
     "output_type": "execute_result"
    }
   ],
   "source": [
    "type(l)"
   ]
  },
  {
   "cell_type": "code",
   "execution_count": 24,
   "id": "82371caa",
   "metadata": {},
   "outputs": [],
   "source": [
    "li = [12,13,14,15,89,12,\"Swara\"]"
   ]
  },
  {
   "cell_type": "code",
   "execution_count": 16,
   "id": "857f6316",
   "metadata": {},
   "outputs": [
    {
     "name": "stdout",
     "output_type": "stream",
     "text": [
      "[12, 13, 14, 15, 89, 12, 'Swara']\n"
     ]
    }
   ],
   "source": [
    "print(li)"
   ]
  },
  {
   "cell_type": "code",
   "execution_count": 17,
   "id": "0b05dd23",
   "metadata": {},
   "outputs": [
    {
     "data": {
      "text/plain": [
       "12"
      ]
     },
     "execution_count": 17,
     "metadata": {},
     "output_type": "execute_result"
    }
   ],
   "source": [
    "#access the data\n",
    "l[0]"
   ]
  },
  {
   "cell_type": "code",
   "execution_count": 19,
   "id": "773517a9",
   "metadata": {},
   "outputs": [
    {
     "data": {
      "text/plain": [
       "89"
      ]
     },
     "execution_count": 19,
     "metadata": {},
     "output_type": "execute_result"
    }
   ],
   "source": [
    "l[4]"
   ]
  },
  {
   "cell_type": "code",
   "execution_count": 22,
   "id": "306f3f1e",
   "metadata": {},
   "outputs": [
    {
     "ename": "IndexError",
     "evalue": "list index out of range",
     "output_type": "error",
     "traceback": [
      "\u001b[1;31m---------------------------------------------------------------------------\u001b[0m",
      "\u001b[1;31mIndexError\u001b[0m                                Traceback (most recent call last)",
      "Cell \u001b[1;32mIn[22], line 1\u001b[0m\n\u001b[1;32m----> 1\u001b[0m \u001b[43ml\u001b[49m\u001b[43m \u001b[49m\u001b[43m[\u001b[49m\u001b[38;5;241;43m6\u001b[39;49m\u001b[43m]\u001b[49m\n",
      "\u001b[1;31mIndexError\u001b[0m: list index out of range"
     ]
    }
   ],
   "source": [
    "l[6]"
   ]
  },
  {
   "cell_type": "code",
   "execution_count": 25,
   "id": "9575a727",
   "metadata": {},
   "outputs": [
    {
     "data": {
      "text/plain": [
       "89"
      ]
     },
     "execution_count": 25,
     "metadata": {},
     "output_type": "execute_result"
    }
   ],
   "source": [
    "l[-1]"
   ]
  },
  {
   "cell_type": "code",
   "execution_count": 26,
   "id": "2a878c5b",
   "metadata": {},
   "outputs": [
    {
     "data": {
      "text/plain": [
       "15"
      ]
     },
     "execution_count": 26,
     "metadata": {},
     "output_type": "execute_result"
    }
   ],
   "source": [
    "l[-2]"
   ]
  },
  {
   "cell_type": "code",
   "execution_count": 30,
   "id": "f82e1e6e",
   "metadata": {},
   "outputs": [],
   "source": [
    "l[-1]=\"Swara\"#changing the value"
   ]
  },
  {
   "cell_type": "code",
   "execution_count": 31,
   "id": "1f7b3f7f",
   "metadata": {},
   "outputs": [
    {
     "data": {
      "text/plain": [
       "[12, 13, 14, 15, 'Swara']"
      ]
     },
     "execution_count": 31,
     "metadata": {},
     "output_type": "execute_result"
    }
   ],
   "source": [
    "l"
   ]
  },
  {
   "cell_type": "code",
   "execution_count": 33,
   "id": "4065d3b8",
   "metadata": {},
   "outputs": [],
   "source": [
    "l[-1]=10"
   ]
  },
  {
   "cell_type": "code",
   "execution_count": 34,
   "id": "11f947bd",
   "metadata": {},
   "outputs": [
    {
     "data": {
      "text/plain": [
       "[12, 13, 14, 15, 10]"
      ]
     },
     "execution_count": 34,
     "metadata": {},
     "output_type": "execute_result"
    }
   ],
   "source": [
    "l"
   ]
  },
  {
   "cell_type": "code",
   "execution_count": 35,
   "id": "8f7faf22",
   "metadata": {},
   "outputs": [
    {
     "data": {
      "text/plain": [
       "[14, 15, 10]"
      ]
     },
     "execution_count": 35,
     "metadata": {},
     "output_type": "execute_result"
    }
   ],
   "source": [
    "#list slicing\n",
    "l[2:5]"
   ]
  },
  {
   "cell_type": "code",
   "execution_count": 39,
   "id": "fabdfe40",
   "metadata": {},
   "outputs": [
    {
     "data": {
      "text/plain": [
       "[14, 15, 10]"
      ]
     },
     "execution_count": 39,
     "metadata": {},
     "output_type": "execute_result"
    }
   ],
   "source": [
    "X=l[2:5]\n",
    "X"
   ]
  },
  {
   "cell_type": "code",
   "execution_count": 43,
   "id": "27172f3d",
   "metadata": {},
   "outputs": [
    {
     "data": {
      "text/plain": [
       "[14, 15, 10]"
      ]
     },
     "execution_count": 43,
     "metadata": {},
     "output_type": "execute_result"
    }
   ],
   "source": [
    "l[2:]"
   ]
  },
  {
   "cell_type": "code",
   "execution_count": 42,
   "id": "7c10b69f",
   "metadata": {},
   "outputs": [
    {
     "data": {
      "text/plain": [
       "[12, 13, 14]"
      ]
     },
     "execution_count": 42,
     "metadata": {},
     "output_type": "execute_result"
    }
   ],
   "source": [
    "l[:-2]"
   ]
  },
  {
   "cell_type": "code",
   "execution_count": 44,
   "id": "bbd2f1c1",
   "metadata": {},
   "outputs": [
    {
     "data": {
      "text/plain": [
       "[13]"
      ]
     },
     "execution_count": 44,
     "metadata": {},
     "output_type": "execute_result"
    }
   ],
   "source": [
    "l[1:-3:2]"
   ]
  },
  {
   "cell_type": "code",
   "execution_count": 46,
   "id": "2de5b799",
   "metadata": {},
   "outputs": [
    {
     "data": {
      "text/plain": [
       "[12, 14, 10]"
      ]
     },
     "execution_count": 46,
     "metadata": {},
     "output_type": "execute_result"
    }
   ],
   "source": [
    "l[::2]"
   ]
  },
  {
   "cell_type": "code",
   "execution_count": 23,
   "id": "a55c2cc1",
   "metadata": {},
   "outputs": [],
   "source": [
    "l=[12,23,34,45,17,12,10,57]"
   ]
  },
  {
   "cell_type": "code",
   "execution_count": 48,
   "id": "721df65e",
   "metadata": {},
   "outputs": [
    {
     "data": {
      "text/plain": [
       "[12, 23, 34, 45, 17, 12, 10, 57]"
      ]
     },
     "execution_count": 48,
     "metadata": {},
     "output_type": "execute_result"
    }
   ],
   "source": [
    "l\n"
   ]
  },
  {
   "cell_type": "code",
   "execution_count": 49,
   "id": "2b307cc5",
   "metadata": {},
   "outputs": [],
   "source": [
    "l[1:4]=[45,62,82]"
   ]
  },
  {
   "cell_type": "code",
   "execution_count": 50,
   "id": "e27f426f",
   "metadata": {},
   "outputs": [
    {
     "data": {
      "text/plain": [
       "[12, 45, 62, 87, 17, 12, 10, 57]"
      ]
     },
     "execution_count": 50,
     "metadata": {},
     "output_type": "execute_result"
    }
   ],
   "source": [
    "l"
   ]
  },
  {
   "cell_type": "code",
   "execution_count": null,
   "id": "d2b6c241",
   "metadata": {},
   "outputs": [],
   "source": [
    "#delete the data"
   ]
  },
  {
   "cell_type": "code",
   "execution_count": 51,
   "id": "f7bcb2fd",
   "metadata": {},
   "outputs": [],
   "source": [
    "del l[1]"
   ]
  },
  {
   "cell_type": "code",
   "execution_count": 52,
   "id": "884bc8de",
   "metadata": {},
   "outputs": [
    {
     "data": {
      "text/plain": [
       "[12, 62, 87, 17, 12, 10, 57]"
      ]
     },
     "execution_count": 52,
     "metadata": {},
     "output_type": "execute_result"
    }
   ],
   "source": [
    "l\n"
   ]
  },
  {
   "cell_type": "code",
   "execution_count": 53,
   "id": "d977e46d",
   "metadata": {},
   "outputs": [],
   "source": [
    "new=[45,62,82]\n",
    "del new"
   ]
  },
  {
   "cell_type": "code",
   "execution_count": 54,
   "id": "26770c3d",
   "metadata": {},
   "outputs": [
    {
     "ename": "NameError",
     "evalue": "name 'new' is not defined",
     "output_type": "error",
     "traceback": [
      "\u001b[1;31m---------------------------------------------------------------------------\u001b[0m",
      "\u001b[1;31mNameError\u001b[0m                                 Traceback (most recent call last)",
      "Cell \u001b[1;32mIn[54], line 1\u001b[0m\n\u001b[1;32m----> 1\u001b[0m \u001b[43mnew\u001b[49m\n",
      "\u001b[1;31mNameError\u001b[0m: name 'new' is not defined"
     ]
    }
   ],
   "source": [
    "new\n"
   ]
  },
  {
   "cell_type": "code",
   "execution_count": null,
   "id": "913d289c",
   "metadata": {},
   "outputs": [],
   "source": [
    "#in operator "
   ]
  },
  {
   "cell_type": "code",
   "execution_count": 55,
   "id": "af371c7f",
   "metadata": {},
   "outputs": [
    {
     "data": {
      "text/plain": [
       "False"
      ]
     },
     "execution_count": 55,
     "metadata": {},
     "output_type": "execute_result"
    }
   ],
   "source": [
    "82 in l\n"
   ]
  },
  {
   "cell_type": "code",
   "execution_count": 56,
   "id": "bad223cf",
   "metadata": {},
   "outputs": [
    {
     "data": {
      "text/plain": [
       "True"
      ]
     },
     "execution_count": 56,
     "metadata": {},
     "output_type": "execute_result"
    }
   ],
   "source": [
    "87 in l"
   ]
  },
  {
   "cell_type": "code",
   "execution_count": null,
   "id": "f7f527e1",
   "metadata": {},
   "outputs": [],
   "source": [
    "#arithmetic operator"
   ]
  },
  {
   "cell_type": "code",
   "execution_count": 57,
   "id": "5c634f7f",
   "metadata": {},
   "outputs": [
    {
     "data": {
      "text/plain": [
       "[12, 62, 87, 17, 12, 10, 57]"
      ]
     },
     "execution_count": 57,
     "metadata": {},
     "output_type": "execute_result"
    }
   ],
   "source": [
    "l\n"
   ]
  },
  {
   "cell_type": "code",
   "execution_count": 58,
   "id": "4ad5ce42",
   "metadata": {},
   "outputs": [
    {
     "data": {
      "text/plain": [
       "[12, 62, 87, 17, 12, 10, 57, 12, 62, 87, 17, 12, 10, 57]"
      ]
     },
     "execution_count": 58,
     "metadata": {},
     "output_type": "execute_result"
    }
   ],
   "source": [
    "l *2"
   ]
  },
  {
   "cell_type": "code",
   "execution_count": 59,
   "id": "01560a94",
   "metadata": {},
   "outputs": [
    {
     "data": {
      "text/plain": [
       "[12, 62, 87, 17, 12, 10, 57, 12, 56]"
      ]
     },
     "execution_count": 59,
     "metadata": {},
     "output_type": "execute_result"
    }
   ],
   "source": [
    "l +[12,56]"
   ]
  },
  {
   "cell_type": "code",
   "execution_count": 60,
   "id": "7eab02df",
   "metadata": {},
   "outputs": [
    {
     "data": {
      "text/plain": [
       "[12, 62, 87, 17, 12, 10, 57]"
      ]
     },
     "execution_count": 60,
     "metadata": {},
     "output_type": "execute_result"
    }
   ],
   "source": [
    "l"
   ]
  },
  {
   "cell_type": "code",
   "execution_count": 61,
   "id": "c1b89d85",
   "metadata": {},
   "outputs": [],
   "source": [
    "li=[56,True,55.6]"
   ]
  },
  {
   "cell_type": "code",
   "execution_count": 62,
   "id": "3b69a1ae",
   "metadata": {},
   "outputs": [
    {
     "data": {
      "text/plain": [
       "[12, 62, 87, 17, 12, 10, 57, 56, True, 55.6]"
      ]
     },
     "execution_count": 62,
     "metadata": {},
     "output_type": "execute_result"
    }
   ],
   "source": [
    "l+li"
   ]
  },
  {
   "cell_type": "code",
   "execution_count": null,
   "id": "9a91e8ce",
   "metadata": {},
   "outputs": [],
   "source": [
    "#iterating over list "
   ]
  },
  {
   "cell_type": "code",
   "execution_count": 63,
   "id": "9bebca4e",
   "metadata": {},
   "outputs": [
    {
     "data": {
      "text/plain": [
       "[12, 62, 87, 17, 12, 10, 57]"
      ]
     },
     "execution_count": 63,
     "metadata": {},
     "output_type": "execute_result"
    }
   ],
   "source": [
    "l\n"
   ]
  },
  {
   "cell_type": "code",
   "execution_count": 65,
   "id": "afe6dedc",
   "metadata": {},
   "outputs": [
    {
     "name": "stdout",
     "output_type": "stream",
     "text": [
      "144 3844 7569 289 144 100 3249 "
     ]
    }
   ],
   "source": [
    "for n in l:\n",
    "    print(n*n,end=' ')"
   ]
  },
  {
   "cell_type": "code",
   "execution_count": 67,
   "id": "4bd090e6",
   "metadata": {},
   "outputs": [
    {
     "name": "stdout",
     "output_type": "stream",
     "text": [
      "87 17 57 "
     ]
    }
   ],
   "source": [
    "#wap to print all odd numbers from list \n",
    "for n in l:\n",
    "    if n%2==1:\n",
    "        print(n,end=' ')"
   ]
  },
  {
   "cell_type": "code",
   "execution_count": null,
   "id": "413cce2f",
   "metadata": {},
   "outputs": [],
   "source": [
    "#list comprehension"
   ]
  },
  {
   "cell_type": "code",
   "execution_count": 22,
   "id": "fe60aa82",
   "metadata": {},
   "outputs": [
    {
     "ename": "NameError",
     "evalue": "name 'l' is not defined",
     "output_type": "error",
     "traceback": [
      "\u001b[1;31m---------------------------------------------------------------------------\u001b[0m",
      "\u001b[1;31mNameError\u001b[0m                                 Traceback (most recent call last)",
      "Cell \u001b[1;32mIn[22], line 1\u001b[0m\n\u001b[1;32m----> 1\u001b[0m \u001b[43ml\u001b[49m\n",
      "\u001b[1;31mNameError\u001b[0m: name 'l' is not defined"
     ]
    }
   ],
   "source": [
    "l"
   ]
  },
  {
   "cell_type": "code",
   "execution_count": null,
   "id": "bfe31919",
   "metadata": {},
   "outputs": [],
   "source": [
    "#map"
   ]
  },
  {
   "cell_type": "code",
   "execution_count": 71,
   "id": "ca83cd85",
   "metadata": {},
   "outputs": [],
   "source": [
    "a=[n/2 for n in l]"
   ]
  },
  {
   "cell_type": "code",
   "execution_count": 72,
   "id": "45d1aa83",
   "metadata": {},
   "outputs": [
    {
     "data": {
      "text/plain": [
       "[6.0, 31.0, 43.5, 8.5, 6.0, 5.0, 28.5]"
      ]
     },
     "execution_count": 72,
     "metadata": {},
     "output_type": "execute_result"
    }
   ],
   "source": [
    "a"
   ]
  },
  {
   "cell_type": "code",
   "execution_count": 73,
   "id": "c69fc2ac",
   "metadata": {},
   "outputs": [
    {
     "data": {
      "text/plain": [
       "list"
      ]
     },
     "execution_count": 73,
     "metadata": {},
     "output_type": "execute_result"
    }
   ],
   "source": [
    "type(a)"
   ]
  },
  {
   "cell_type": "code",
   "execution_count": 74,
   "id": "fc71370d",
   "metadata": {},
   "outputs": [],
   "source": [
    "a=[n**2 for n in l]"
   ]
  },
  {
   "cell_type": "code",
   "execution_count": 75,
   "id": "9922f4b2",
   "metadata": {},
   "outputs": [
    {
     "data": {
      "text/plain": [
       "[144, 3844, 7569, 289, 144, 100, 3249]"
      ]
     },
     "execution_count": 75,
     "metadata": {},
     "output_type": "execute_result"
    }
   ],
   "source": [
    "a"
   ]
  },
  {
   "cell_type": "code",
   "execution_count": null,
   "id": "124c34d3",
   "metadata": {},
   "outputs": [],
   "source": [
    "#filter"
   ]
  },
  {
   "cell_type": "code",
   "execution_count": 76,
   "id": "4d76bdd2",
   "metadata": {},
   "outputs": [
    {
     "data": {
      "text/plain": [
       "[12, 62, 87, 17, 12, 10, 57]"
      ]
     },
     "execution_count": 76,
     "metadata": {},
     "output_type": "execute_result"
    }
   ],
   "source": [
    "l\n"
   ]
  },
  {
   "cell_type": "code",
   "execution_count": 77,
   "id": "23c691d2",
   "metadata": {},
   "outputs": [],
   "source": [
    "b=[n for n in l if n >40]"
   ]
  },
  {
   "cell_type": "code",
   "execution_count": 78,
   "id": "f66d4798",
   "metadata": {},
   "outputs": [
    {
     "data": {
      "text/plain": [
       "[62, 87, 57]"
      ]
     },
     "execution_count": 78,
     "metadata": {},
     "output_type": "execute_result"
    }
   ],
   "source": [
    "b"
   ]
  },
  {
   "cell_type": "code",
   "execution_count": 79,
   "id": "b56f76dd",
   "metadata": {},
   "outputs": [],
   "source": [
    "b=[n for n in l if n%2==1]"
   ]
  },
  {
   "cell_type": "code",
   "execution_count": 80,
   "id": "acb772cb",
   "metadata": {},
   "outputs": [
    {
     "data": {
      "text/plain": [
       "[87, 17, 57]"
      ]
     },
     "execution_count": 80,
     "metadata": {},
     "output_type": "execute_result"
    }
   ],
   "source": [
    "b\n"
   ]
  },
  {
   "cell_type": "code",
   "execution_count": 3,
   "id": "9fd7e597",
   "metadata": {},
   "outputs": [],
   "source": [
    "names=['swara','rutu','neel','sita','riya','sam','Siddhi','geeta']"
   ]
  },
  {
   "cell_type": "code",
   "execution_count": null,
   "id": "61b07ed0",
   "metadata": {},
   "outputs": [],
   "source": [
    "#list contaning names which starts with \"s\""
   ]
  },
  {
   "cell_type": "code",
   "execution_count": 84,
   "id": "d2293c18",
   "metadata": {},
   "outputs": [
    {
     "ename": "AttributeError",
     "evalue": "'list' object has no attribute 'startswith'",
     "output_type": "error",
     "traceback": [
      "\u001b[1;31m---------------------------------------------------------------------------\u001b[0m",
      "\u001b[1;31mAttributeError\u001b[0m                            Traceback (most recent call last)",
      "Cell \u001b[1;32mIn[84], line 1\u001b[0m\n\u001b[1;32m----> 1\u001b[0m \u001b[43mnames\u001b[49m\u001b[38;5;241;43m.\u001b[39;49m\u001b[43mstartswith\u001b[49m(\u001b[38;5;124m'\u001b[39m\u001b[38;5;124ms\u001b[39m\u001b[38;5;124m'\u001b[39m)\n",
      "\u001b[1;31mAttributeError\u001b[0m: 'list' object has no attribute 'startswith'"
     ]
    }
   ],
   "source": [
    "names.startswith('s')"
   ]
  },
  {
   "cell_type": "code",
   "execution_count": 4,
   "id": "8c5b632f",
   "metadata": {},
   "outputs": [
    {
     "data": {
      "text/plain": [
       "['swara', 'sita', 'sam']"
      ]
     },
     "execution_count": 4,
     "metadata": {},
     "output_type": "execute_result"
    }
   ],
   "source": [
    "[n for n in names if n.startswith('s')]"
   ]
  },
  {
   "cell_type": "code",
   "execution_count": 5,
   "id": "b53dff7b",
   "metadata": {},
   "outputs": [
    {
     "data": {
      "text/plain": [
       "['SWARA', 'RUTU', 'NEEL', 'SITA', 'RIYA', 'SAM', 'SIDDHI', 'GEETA']"
      ]
     },
     "execution_count": 5,
     "metadata": {},
     "output_type": "execute_result"
    }
   ],
   "source": [
    "#get a new list with all names in upper case\n",
    "[n.upper() for n in names]"
   ]
  },
  {
   "cell_type": "code",
   "execution_count": 6,
   "id": "80b0bd16",
   "metadata": {},
   "outputs": [],
   "source": [
    "#empty list\n",
    "e=[]"
   ]
  },
  {
   "cell_type": "code",
   "execution_count": 7,
   "id": "7ce945a9",
   "metadata": {},
   "outputs": [
    {
     "data": {
      "text/plain": [
       "list"
      ]
     },
     "execution_count": 7,
     "metadata": {},
     "output_type": "execute_result"
    }
   ],
   "source": [
    "type(e)"
   ]
  },
  {
   "cell_type": "code",
   "execution_count": 12,
   "id": "4a3b48a7",
   "metadata": {},
   "outputs": [],
   "source": [
    "e[0]=1"
   ]
  },
  {
   "cell_type": "code",
   "execution_count": 10,
   "id": "4b3842ee",
   "metadata": {},
   "outputs": [],
   "source": [
    "e=e+[4]"
   ]
  },
  {
   "cell_type": "code",
   "execution_count": 11,
   "id": "8b872e50",
   "metadata": {},
   "outputs": [
    {
     "data": {
      "text/plain": [
       "[4]"
      ]
     },
     "execution_count": 11,
     "metadata": {},
     "output_type": "execute_result"
    }
   ],
   "source": [
    "e"
   ]
  },
  {
   "cell_type": "code",
   "execution_count": 13,
   "id": "8a64aa49",
   "metadata": {},
   "outputs": [
    {
     "data": {
      "text/plain": [
       "1"
      ]
     },
     "execution_count": 13,
     "metadata": {},
     "output_type": "execute_result"
    }
   ],
   "source": [
    "e[0]"
   ]
  },
  {
   "cell_type": "code",
   "execution_count": null,
   "id": "5bbdf5c8",
   "metadata": {},
   "outputs": [],
   "source": [
    "#list decomposition "
   ]
  },
  {
   "cell_type": "code",
   "execution_count": 15,
   "id": "a9b25093",
   "metadata": {},
   "outputs": [],
   "source": [
    "li=[34,55,44]"
   ]
  },
  {
   "cell_type": "code",
   "execution_count": 16,
   "id": "e11e478e",
   "metadata": {},
   "outputs": [],
   "source": [
    "x,y,z=li"
   ]
  },
  {
   "cell_type": "code",
   "execution_count": 17,
   "id": "46f9f1c8",
   "metadata": {},
   "outputs": [
    {
     "data": {
      "text/plain": [
       "34"
      ]
     },
     "execution_count": 17,
     "metadata": {},
     "output_type": "execute_result"
    }
   ],
   "source": [
    "x"
   ]
  },
  {
   "cell_type": "code",
   "execution_count": 18,
   "id": "0b3e578f",
   "metadata": {},
   "outputs": [
    {
     "data": {
      "text/plain": [
       "55"
      ]
     },
     "execution_count": 18,
     "metadata": {},
     "output_type": "execute_result"
    }
   ],
   "source": [
    "y"
   ]
  },
  {
   "cell_type": "code",
   "execution_count": 19,
   "id": "4ffc9f76",
   "metadata": {},
   "outputs": [
    {
     "data": {
      "text/plain": [
       "44"
      ]
     },
     "execution_count": 19,
     "metadata": {},
     "output_type": "execute_result"
    }
   ],
   "source": [
    "z"
   ]
  },
  {
   "cell_type": "code",
   "execution_count": 20,
   "id": "b2de4245",
   "metadata": {},
   "outputs": [
    {
     "ename": "NameError",
     "evalue": "name 'name' is not defined",
     "output_type": "error",
     "traceback": [
      "\u001b[1;31m---------------------------------------------------------------------------\u001b[0m",
      "\u001b[1;31mNameError\u001b[0m                                 Traceback (most recent call last)",
      "Cell \u001b[1;32mIn[20], line 1\u001b[0m\n\u001b[1;32m----> 1\u001b[0m \u001b[38;5;28mlist\u001b[39m(\u001b[43mname\u001b[49m)\n",
      "\u001b[1;31mNameError\u001b[0m: name 'name' is not defined"
     ]
    }
   ],
   "source": [
    "list(name)"
   ]
  },
  {
   "cell_type": "code",
   "execution_count": 24,
   "id": "e119e088",
   "metadata": {},
   "outputs": [
    {
     "data": {
      "text/plain": [
       "[12, 23, 34, 45, 17, 12, 10, 57]"
      ]
     },
     "execution_count": 24,
     "metadata": {},
     "output_type": "execute_result"
    }
   ],
   "source": [
    "#methods on list \n",
    "l"
   ]
  },
  {
   "cell_type": "code",
   "execution_count": 25,
   "id": "4a20d99b",
   "metadata": {},
   "outputs": [],
   "source": [
    "l.append(100) #adding at the end "
   ]
  },
  {
   "cell_type": "code",
   "execution_count": 26,
   "id": "fd1a70e5",
   "metadata": {},
   "outputs": [
    {
     "data": {
      "text/plain": [
       "[12, 23, 34, 45, 17, 12, 10, 57, 100]"
      ]
     },
     "execution_count": 26,
     "metadata": {},
     "output_type": "execute_result"
    }
   ],
   "source": [
    "l"
   ]
  },
  {
   "cell_type": "code",
   "execution_count": 29,
   "id": "064a8c75",
   "metadata": {},
   "outputs": [],
   "source": [
    "#append and extend \n",
    "x=[12,22,11]\n",
    "y=[12,22,11]"
   ]
  },
  {
   "cell_type": "code",
   "execution_count": 30,
   "id": "6a84daf6",
   "metadata": {},
   "outputs": [],
   "source": [
    "x.append([11,12])\n",
    "y.extend([11,22])"
   ]
  },
  {
   "cell_type": "code",
   "execution_count": 31,
   "id": "2756b23e",
   "metadata": {},
   "outputs": [
    {
     "data": {
      "text/plain": [
       "[11, 12]"
      ]
     },
     "execution_count": 31,
     "metadata": {},
     "output_type": "execute_result"
    }
   ],
   "source": [
    "x[-1]"
   ]
  },
  {
   "cell_type": "code",
   "execution_count": 32,
   "id": "5c34fe81",
   "metadata": {},
   "outputs": [
    {
     "data": {
      "text/plain": [
       "12"
      ]
     },
     "execution_count": 32,
     "metadata": {},
     "output_type": "execute_result"
    }
   ],
   "source": [
    "x[-1][1]"
   ]
  },
  {
   "cell_type": "code",
   "execution_count": 33,
   "id": "4362645c",
   "metadata": {},
   "outputs": [
    {
     "data": {
      "text/plain": [
       "[12, 23, 34, 45, 17, 12, 10, 57, 100]"
      ]
     },
     "execution_count": 33,
     "metadata": {},
     "output_type": "execute_result"
    }
   ],
   "source": [
    "#insert\n",
    "l"
   ]
  },
  {
   "cell_type": "code",
   "execution_count": 34,
   "id": "b359e48a",
   "metadata": {},
   "outputs": [],
   "source": [
    "l.insert(2,56)"
   ]
  },
  {
   "cell_type": "code",
   "execution_count": 35,
   "id": "431b3368",
   "metadata": {},
   "outputs": [
    {
     "data": {
      "text/plain": [
       "[12, 23, 56, 34, 45, 17, 12, 10, 57, 100]"
      ]
     },
     "execution_count": 35,
     "metadata": {},
     "output_type": "execute_result"
    }
   ],
   "source": [
    "l"
   ]
  },
  {
   "cell_type": "code",
   "execution_count": 37,
   "id": "6a6b9a87",
   "metadata": {},
   "outputs": [],
   "source": [
    "l.remove(34)"
   ]
  },
  {
   "cell_type": "code",
   "execution_count": 38,
   "id": "440f7d42",
   "metadata": {},
   "outputs": [
    {
     "data": {
      "text/plain": [
       "[12, 23, 56, 45, 17, 12, 10, 57, 100]"
      ]
     },
     "execution_count": 38,
     "metadata": {},
     "output_type": "execute_result"
    }
   ],
   "source": [
    "l\n"
   ]
  },
  {
   "cell_type": "code",
   "execution_count": 41,
   "id": "7501cc48",
   "metadata": {},
   "outputs": [
    {
     "data": {
      "text/plain": [
       "4"
      ]
     },
     "execution_count": 41,
     "metadata": {},
     "output_type": "execute_result"
    }
   ],
   "source": [
    "l.index(17)"
   ]
  },
  {
   "cell_type": "code",
   "execution_count": 42,
   "id": "cca397be",
   "metadata": {},
   "outputs": [
    {
     "data": {
      "text/plain": [
       "2"
      ]
     },
     "execution_count": 42,
     "metadata": {},
     "output_type": "execute_result"
    }
   ],
   "source": [
    "l.count(12)"
   ]
  },
  {
   "cell_type": "code",
   "execution_count": 43,
   "id": "2b4b75a6",
   "metadata": {},
   "outputs": [
    {
     "data": {
      "text/plain": [
       "[12, 23, 56, 45, 17, 12, 10, 57, 100]"
      ]
     },
     "execution_count": 43,
     "metadata": {},
     "output_type": "execute_result"
    }
   ],
   "source": [
    "#delete/pop\n",
    "l"
   ]
  },
  {
   "cell_type": "code",
   "execution_count": 44,
   "id": "52e102a7",
   "metadata": {},
   "outputs": [
    {
     "data": {
      "text/plain": [
       "100"
      ]
     },
     "execution_count": 44,
     "metadata": {},
     "output_type": "execute_result"
    }
   ],
   "source": [
    "l.pop()"
   ]
  },
  {
   "cell_type": "code",
   "execution_count": 45,
   "id": "59085607",
   "metadata": {},
   "outputs": [
    {
     "data": {
      "text/plain": [
       "10"
      ]
     },
     "execution_count": 45,
     "metadata": {},
     "output_type": "execute_result"
    }
   ],
   "source": [
    "l.pop(-2)"
   ]
  },
  {
   "cell_type": "code",
   "execution_count": 46,
   "id": "d4ea8344",
   "metadata": {},
   "outputs": [
    {
     "data": {
      "text/plain": [
       "[12, 23, 56, 45, 17, 12, 57]"
      ]
     },
     "execution_count": 46,
     "metadata": {},
     "output_type": "execute_result"
    }
   ],
   "source": [
    "l"
   ]
  },
  {
   "cell_type": "code",
   "execution_count": 47,
   "id": "b3895932",
   "metadata": {},
   "outputs": [],
   "source": [
    "l.reverse()"
   ]
  },
  {
   "cell_type": "code",
   "execution_count": 48,
   "id": "627b5f1a",
   "metadata": {},
   "outputs": [
    {
     "data": {
      "text/plain": [
       "[57, 12, 17, 45, 56, 23, 12]"
      ]
     },
     "execution_count": 48,
     "metadata": {},
     "output_type": "execute_result"
    }
   ],
   "source": [
    "l\n"
   ]
  },
  {
   "cell_type": "code",
   "execution_count": 49,
   "id": "cb8fa1a8",
   "metadata": {},
   "outputs": [],
   "source": [
    "l.sort()"
   ]
  },
  {
   "cell_type": "code",
   "execution_count": 50,
   "id": "53a81054",
   "metadata": {},
   "outputs": [
    {
     "data": {
      "text/plain": [
       "[12, 12, 17, 23, 45, 56, 57]"
      ]
     },
     "execution_count": 50,
     "metadata": {},
     "output_type": "execute_result"
    }
   ],
   "source": [
    "l"
   ]
  },
  {
   "cell_type": "code",
   "execution_count": 51,
   "id": "6057a425",
   "metadata": {},
   "outputs": [],
   "source": [
    "l.reverse()  //reverse=true"
   ]
  },
  {
   "cell_type": "code",
   "execution_count": 52,
   "id": "fdc9b58e",
   "metadata": {},
   "outputs": [
    {
     "data": {
      "text/plain": [
       "[57, 56, 45, 23, 17, 12, 12]"
      ]
     },
     "execution_count": 52,
     "metadata": {},
     "output_type": "execute_result"
    }
   ],
   "source": [
    "l"
   ]
  },
  {
   "cell_type": "code",
   "execution_count": 56,
   "id": "9c32f1e3",
   "metadata": {},
   "outputs": [
    {
     "name": "stdout",
     "output_type": "stream",
     "text": [
      "0 57\n",
      "1 56\n",
      "2 45\n",
      "3 23\n",
      "4 17\n",
      "5 12\n",
      "5 12\n"
     ]
    }
   ],
   "source": [
    "#iterate over a list print index and value assigned to it \n",
    "for n in l:\n",
    "        print(l.index(n),n)\n"
   ]
  },
  {
   "cell_type": "code",
   "execution_count": 58,
   "id": "2041c993",
   "metadata": {},
   "outputs": [
    {
     "name": "stdout",
     "output_type": "stream",
     "text": [
      "0 57\n",
      "1 56\n",
      "2 45\n",
      "3 23\n",
      "4 17\n",
      "5 12\n",
      "6 12\n"
     ]
    }
   ],
   "source": [
    "#enumerate \n",
    "for index,n in enumerate(l):\n",
    "    print(index,n)"
   ]
  },
  {
   "cell_type": "code",
   "execution_count": 59,
   "id": "5b515402",
   "metadata": {},
   "outputs": [],
   "source": [
    "#shallow copy\n",
    "li=[12,13,14]\n",
    "l2=li"
   ]
  },
  {
   "cell_type": "code",
   "execution_count": 60,
   "id": "033809aa",
   "metadata": {},
   "outputs": [
    {
     "data": {
      "text/plain": [
       "[12, 13, 14]"
      ]
     },
     "execution_count": 60,
     "metadata": {},
     "output_type": "execute_result"
    }
   ],
   "source": [
    "l2"
   ]
  },
  {
   "cell_type": "code",
   "execution_count": 61,
   "id": "a3d0e877",
   "metadata": {},
   "outputs": [],
   "source": [
    "li.append(100)"
   ]
  },
  {
   "cell_type": "code",
   "execution_count": 62,
   "id": "7c48cf1c",
   "metadata": {},
   "outputs": [
    {
     "data": {
      "text/plain": [
       "[12, 13, 14, 100]"
      ]
     },
     "execution_count": 62,
     "metadata": {},
     "output_type": "execute_result"
    }
   ],
   "source": [
    "l2"
   ]
  },
  {
   "cell_type": "code",
   "execution_count": 63,
   "id": "2c74bfbe",
   "metadata": {},
   "outputs": [],
   "source": [
    "l3=li.copy()"
   ]
  },
  {
   "cell_type": "code",
   "execution_count": 64,
   "id": "f6aff0f3",
   "metadata": {},
   "outputs": [
    {
     "data": {
      "text/plain": [
       "[12, 13, 14, 100]"
      ]
     },
     "execution_count": 64,
     "metadata": {},
     "output_type": "execute_result"
    }
   ],
   "source": [
    "l3"
   ]
  },
  {
   "cell_type": "code",
   "execution_count": 65,
   "id": "115ec899",
   "metadata": {},
   "outputs": [],
   "source": [
    "li.append(1000)"
   ]
  },
  {
   "cell_type": "code",
   "execution_count": 66,
   "id": "ff2ea4bc",
   "metadata": {},
   "outputs": [
    {
     "data": {
      "text/plain": [
       "[12, 13, 14, 100, 1000]"
      ]
     },
     "execution_count": 66,
     "metadata": {},
     "output_type": "execute_result"
    }
   ],
   "source": [
    "l2"
   ]
  },
  {
   "cell_type": "code",
   "execution_count": 67,
   "id": "ab48fd40",
   "metadata": {},
   "outputs": [
    {
     "data": {
      "text/plain": [
       "[12, 13, 14, 100]"
      ]
     },
     "execution_count": 67,
     "metadata": {},
     "output_type": "execute_result"
    }
   ],
   "source": [
    "l3"
   ]
  },
  {
   "cell_type": "code",
   "execution_count": 68,
   "id": "63dc353b",
   "metadata": {},
   "outputs": [
    {
     "data": {
      "text/plain": [
       "[12, 13, 14, 100, 1000]"
      ]
     },
     "execution_count": 68,
     "metadata": {},
     "output_type": "execute_result"
    }
   ],
   "source": [
    "li"
   ]
  },
  {
   "cell_type": "code",
   "execution_count": 69,
   "id": "520077af",
   "metadata": {},
   "outputs": [
    {
     "data": {
      "text/plain": [
       "[12, 13, 14, 100, 1000]"
      ]
     },
     "execution_count": 69,
     "metadata": {},
     "output_type": "execute_result"
    }
   ],
   "source": [
    "l2"
   ]
  },
  {
   "cell_type": "code",
   "execution_count": 70,
   "id": "32c102e0",
   "metadata": {},
   "outputs": [
    {
     "data": {
      "text/plain": [
       "[12, 13, 14, 100]"
      ]
     },
     "execution_count": 70,
     "metadata": {},
     "output_type": "execute_result"
    }
   ],
   "source": [
    "l3"
   ]
  },
  {
   "cell_type": "code",
   "execution_count": 71,
   "id": "f3dabe56",
   "metadata": {},
   "outputs": [],
   "source": [
    "li.append([12,34])"
   ]
  },
  {
   "cell_type": "code",
   "execution_count": 72,
   "id": "64ea7267",
   "metadata": {},
   "outputs": [],
   "source": [
    "l3=li.copy()"
   ]
  },
  {
   "cell_type": "code",
   "execution_count": 73,
   "id": "64c6c34c",
   "metadata": {},
   "outputs": [
    {
     "name": "stdout",
     "output_type": "stream",
     "text": [
      "Help on class list in module builtins:\n",
      "\n",
      "class list(object)\n",
      " |  list(iterable=(), /)\n",
      " |  \n",
      " |  Built-in mutable sequence.\n",
      " |  \n",
      " |  If no argument is given, the constructor creates a new empty list.\n",
      " |  The argument must be an iterable if specified.\n",
      " |  \n",
      " |  Methods defined here:\n",
      " |  \n",
      " |  __add__(self, value, /)\n",
      " |      Return self+value.\n",
      " |  \n",
      " |  __contains__(self, key, /)\n",
      " |      Return key in self.\n",
      " |  \n",
      " |  __delitem__(self, key, /)\n",
      " |      Delete self[key].\n",
      " |  \n",
      " |  __eq__(self, value, /)\n",
      " |      Return self==value.\n",
      " |  \n",
      " |  __ge__(self, value, /)\n",
      " |      Return self>=value.\n",
      " |  \n",
      " |  __getattribute__(self, name, /)\n",
      " |      Return getattr(self, name).\n",
      " |  \n",
      " |  __getitem__(...)\n",
      " |      x.__getitem__(y) <==> x[y]\n",
      " |  \n",
      " |  __gt__(self, value, /)\n",
      " |      Return self>value.\n",
      " |  \n",
      " |  __iadd__(self, value, /)\n",
      " |      Implement self+=value.\n",
      " |  \n",
      " |  __imul__(self, value, /)\n",
      " |      Implement self*=value.\n",
      " |  \n",
      " |  __init__(self, /, *args, **kwargs)\n",
      " |      Initialize self.  See help(type(self)) for accurate signature.\n",
      " |  \n",
      " |  __iter__(self, /)\n",
      " |      Implement iter(self).\n",
      " |  \n",
      " |  __le__(self, value, /)\n",
      " |      Return self<=value.\n",
      " |  \n",
      " |  __len__(self, /)\n",
      " |      Return len(self).\n",
      " |  \n",
      " |  __lt__(self, value, /)\n",
      " |      Return self<value.\n",
      " |  \n",
      " |  __mul__(self, value, /)\n",
      " |      Return self*value.\n",
      " |  \n",
      " |  __ne__(self, value, /)\n",
      " |      Return self!=value.\n",
      " |  \n",
      " |  __repr__(self, /)\n",
      " |      Return repr(self).\n",
      " |  \n",
      " |  __reversed__(self, /)\n",
      " |      Return a reverse iterator over the list.\n",
      " |  \n",
      " |  __rmul__(self, value, /)\n",
      " |      Return value*self.\n",
      " |  \n",
      " |  __setitem__(self, key, value, /)\n",
      " |      Set self[key] to value.\n",
      " |  \n",
      " |  __sizeof__(self, /)\n",
      " |      Return the size of the list in memory, in bytes.\n",
      " |  \n",
      " |  append(self, object, /)\n",
      " |      Append object to the end of the list.\n",
      " |  \n",
      " |  clear(self, /)\n",
      " |      Remove all items from list.\n",
      " |  \n",
      " |  copy(self, /)\n",
      " |      Return a shallow copy of the list.\n",
      " |  \n",
      " |  count(self, value, /)\n",
      " |      Return number of occurrences of value.\n",
      " |  \n",
      " |  extend(self, iterable, /)\n",
      " |      Extend list by appending elements from the iterable.\n",
      " |  \n",
      " |  index(self, value, start=0, stop=9223372036854775807, /)\n",
      " |      Return first index of value.\n",
      " |      \n",
      " |      Raises ValueError if the value is not present.\n",
      " |  \n",
      " |  insert(self, index, object, /)\n",
      " |      Insert object before index.\n",
      " |  \n",
      " |  pop(self, index=-1, /)\n",
      " |      Remove and return item at index (default last).\n",
      " |      \n",
      " |      Raises IndexError if list is empty or index is out of range.\n",
      " |  \n",
      " |  remove(self, value, /)\n",
      " |      Remove first occurrence of value.\n",
      " |      \n",
      " |      Raises ValueError if the value is not present.\n",
      " |  \n",
      " |  reverse(self, /)\n",
      " |      Reverse *IN PLACE*.\n",
      " |  \n",
      " |  sort(self, /, *, key=None, reverse=False)\n",
      " |      Sort the list in ascending order and return None.\n",
      " |      \n",
      " |      The sort is in-place (i.e. the list itself is modified) and stable (i.e. the\n",
      " |      order of two equal elements is maintained).\n",
      " |      \n",
      " |      If a key function is given, apply it once to each list item and sort them,\n",
      " |      ascending or descending, according to their function values.\n",
      " |      \n",
      " |      The reverse flag can be set to sort in descending order.\n",
      " |  \n",
      " |  ----------------------------------------------------------------------\n",
      " |  Class methods defined here:\n",
      " |  \n",
      " |  __class_getitem__(...) from builtins.type\n",
      " |      See PEP 585\n",
      " |  \n",
      " |  ----------------------------------------------------------------------\n",
      " |  Static methods defined here:\n",
      " |  \n",
      " |  __new__(*args, **kwargs) from builtins.type\n",
      " |      Create and return a new object.  See help(type) for accurate signature.\n",
      " |  \n",
      " |  ----------------------------------------------------------------------\n",
      " |  Data and other attributes defined here:\n",
      " |  \n",
      " |  __hash__ = None\n",
      "\n"
     ]
    }
   ],
   "source": [
    "help(list)"
   ]
  },
  {
   "cell_type": "code",
   "execution_count": 74,
   "id": "60d3b436",
   "metadata": {},
   "outputs": [],
   "source": [
    "li.clear()"
   ]
  },
  {
   "cell_type": "code",
   "execution_count": 75,
   "id": "64b282db",
   "metadata": {},
   "outputs": [
    {
     "data": {
      "text/plain": [
       "[]"
      ]
     },
     "execution_count": 75,
     "metadata": {},
     "output_type": "execute_result"
    }
   ],
   "source": [
    "li"
   ]
  },
  {
   "cell_type": "markdown",
   "id": "0d4bff68",
   "metadata": {},
   "source": [
    "# tuple"
   ]
  },
  {
   "cell_type": "code",
   "execution_count": 76,
   "id": "c88714f8",
   "metadata": {},
   "outputs": [],
   "source": [
    "t=(23,44,56,67)"
   ]
  },
  {
   "cell_type": "code",
   "execution_count": 77,
   "id": "4af62b3f",
   "metadata": {},
   "outputs": [
    {
     "data": {
      "text/plain": [
       "(23, 44, 56, 67)"
      ]
     },
     "execution_count": 77,
     "metadata": {},
     "output_type": "execute_result"
    }
   ],
   "source": [
    "t"
   ]
  },
  {
   "cell_type": "code",
   "execution_count": 78,
   "id": "f98c6ad4",
   "metadata": {},
   "outputs": [
    {
     "data": {
      "text/plain": [
       "tuple"
      ]
     },
     "execution_count": 78,
     "metadata": {},
     "output_type": "execute_result"
    }
   ],
   "source": [
    "type(t)"
   ]
  },
  {
   "cell_type": "code",
   "execution_count": 79,
   "id": "964e7186",
   "metadata": {},
   "outputs": [],
   "source": [
    "t1=(3,3,\"Swara\")"
   ]
  },
  {
   "cell_type": "code",
   "execution_count": 80,
   "id": "2033b6ca",
   "metadata": {},
   "outputs": [
    {
     "data": {
      "text/plain": [
       "(3, 3, 'Swara')"
      ]
     },
     "execution_count": 80,
     "metadata": {},
     "output_type": "execute_result"
    }
   ],
   "source": [
    "t1"
   ]
  },
  {
   "cell_type": "code",
   "execution_count": 81,
   "id": "ac734e6e",
   "metadata": {},
   "outputs": [
    {
     "data": {
      "text/plain": [
       "67"
      ]
     },
     "execution_count": 81,
     "metadata": {},
     "output_type": "execute_result"
    }
   ],
   "source": [
    "t[3]"
   ]
  },
  {
   "cell_type": "code",
   "execution_count": null,
   "id": "60cb4083",
   "metadata": {},
   "outputs": [],
   "source": [
    "#tuples are immutable cant change existing data only add and insert,doesnt support deletion"
   ]
  },
  {
   "cell_type": "code",
   "execution_count": 82,
   "id": "24ba0176",
   "metadata": {},
   "outputs": [
    {
     "data": {
      "text/plain": [
       "(3, 3, 'Swara')"
      ]
     },
     "execution_count": 82,
     "metadata": {},
     "output_type": "execute_result"
    }
   ],
   "source": [
    "t1"
   ]
  },
  {
   "cell_type": "code",
   "execution_count": 83,
   "id": "1ad070b3",
   "metadata": {},
   "outputs": [],
   "source": [
    "m=list(t1)"
   ]
  },
  {
   "cell_type": "code",
   "execution_count": 84,
   "id": "0c5b620c",
   "metadata": {},
   "outputs": [
    {
     "data": {
      "text/plain": [
       "[3, 3, 'Swara']"
      ]
     },
     "execution_count": 84,
     "metadata": {},
     "output_type": "execute_result"
    }
   ],
   "source": [
    "m"
   ]
  },
  {
   "cell_type": "code",
   "execution_count": 85,
   "id": "bdc7a975",
   "metadata": {},
   "outputs": [],
   "source": [
    "z1=tuple(m)"
   ]
  },
  {
   "cell_type": "code",
   "execution_count": 86,
   "id": "72bedb95",
   "metadata": {},
   "outputs": [
    {
     "data": {
      "text/plain": [
       "(3, 3, 'Swara')"
      ]
     },
     "execution_count": 86,
     "metadata": {},
     "output_type": "execute_result"
    }
   ],
   "source": [
    "z1"
   ]
  },
  {
   "cell_type": "markdown",
   "id": "a14de792",
   "metadata": {},
   "source": [
    "# set"
   ]
  },
  {
   "cell_type": "code",
   "execution_count": 88,
   "id": "d9ffa301",
   "metadata": {},
   "outputs": [
    {
     "data": {
      "text/plain": [
       "{1, 4, 12, 13, 14, 54}"
      ]
     },
     "execution_count": 88,
     "metadata": {},
     "output_type": "execute_result"
    }
   ],
   "source": [
    "s={12,13,14,1,1,4,54}# no duplicate values ,unordered \n",
    "s"
   ]
  },
  {
   "cell_type": "code",
   "execution_count": 89,
   "id": "9c0e135e",
   "metadata": {},
   "outputs": [],
   "source": [
    "s.add(45)"
   ]
  },
  {
   "cell_type": "code",
   "execution_count": 90,
   "id": "8e5e7038",
   "metadata": {},
   "outputs": [
    {
     "data": {
      "text/plain": [
       "{1, 4, 12, 13, 14, 45, 54}"
      ]
     },
     "execution_count": 90,
     "metadata": {},
     "output_type": "execute_result"
    }
   ],
   "source": [
    "s"
   ]
  },
  {
   "cell_type": "code",
   "execution_count": 91,
   "id": "3a1c0e69",
   "metadata": {},
   "outputs": [],
   "source": [
    "s.add('a')"
   ]
  },
  {
   "cell_type": "code",
   "execution_count": 93,
   "id": "8be3c945",
   "metadata": {},
   "outputs": [
    {
     "ename": "AttributeError",
     "evalue": "'set' object has no attribute 'frozenset'",
     "output_type": "error",
     "traceback": [
      "\u001b[1;31m---------------------------------------------------------------------------\u001b[0m",
      "\u001b[1;31mAttributeError\u001b[0m                            Traceback (most recent call last)",
      "Cell \u001b[1;32mIn[93], line 1\u001b[0m\n\u001b[1;32m----> 1\u001b[0m s\u001b[38;5;241m=\u001b[39m\u001b[43ms\u001b[49m\u001b[38;5;241;43m.\u001b[39;49m\u001b[43mfrozenset\u001b[49m(s)\n",
      "\u001b[1;31mAttributeError\u001b[0m: 'set' object has no attribute 'frozenset'"
     ]
    }
   ],
   "source": [
    "s=s.frozenset(s)"
   ]
  },
  {
   "cell_type": "code",
   "execution_count": 92,
   "id": "950795da",
   "metadata": {},
   "outputs": [
    {
     "data": {
      "text/plain": [
       "{1, 12, 13, 14, 4, 45, 54, 'a'}"
      ]
     },
     "execution_count": 92,
     "metadata": {},
     "output_type": "execute_result"
    }
   ],
   "source": [
    "s"
   ]
  },
  {
   "cell_type": "markdown",
   "id": "670dea88",
   "metadata": {},
   "source": [
    "# dictionary"
   ]
  },
  {
   "cell_type": "code",
   "execution_count": 94,
   "id": "9e9bba25",
   "metadata": {},
   "outputs": [
    {
     "data": {
      "text/plain": [
       "{1: 23, 2: 56, 3: 78, 4: 90}"
      ]
     },
     "execution_count": 94,
     "metadata": {},
     "output_type": "execute_result"
    }
   ],
   "source": [
    "d={1:23,2:56,3:78,4:90}#value can be reapeted key must be unique \n",
    "d"
   ]
  },
  {
   "cell_type": "code",
   "execution_count": 95,
   "id": "4772f9a6",
   "metadata": {},
   "outputs": [
    {
     "data": {
      "text/plain": [
       "90"
      ]
     },
     "execution_count": 95,
     "metadata": {},
     "output_type": "execute_result"
    }
   ],
   "source": [
    "d[4]"
   ]
  },
  {
   "cell_type": "code",
   "execution_count": 96,
   "id": "85b956d6",
   "metadata": {},
   "outputs": [
    {
     "data": {
      "text/plain": [
       "{1: 23, 2: 56, 3: 100, 4: 90}"
      ]
     },
     "execution_count": 96,
     "metadata": {},
     "output_type": "execute_result"
    }
   ],
   "source": [
    "d[3]=100\n",
    "d"
   ]
  },
  {
   "cell_type": "code",
   "execution_count": 97,
   "id": "94ae1bc0",
   "metadata": {},
   "outputs": [],
   "source": [
    "d[10]=98"
   ]
  },
  {
   "cell_type": "code",
   "execution_count": 98,
   "id": "6e7514b1",
   "metadata": {},
   "outputs": [
    {
     "data": {
      "text/plain": [
       "{1: 23, 2: 56, 3: 100, 4: 90, 10: 98}"
      ]
     },
     "execution_count": 98,
     "metadata": {},
     "output_type": "execute_result"
    }
   ],
   "source": [
    "d"
   ]
  },
  {
   "cell_type": "code",
   "execution_count": 99,
   "id": "a24764b8",
   "metadata": {},
   "outputs": [
    {
     "data": {
      "text/plain": [
       "dict_keys([1, 2, 3, 4, 10])"
      ]
     },
     "execution_count": 99,
     "metadata": {},
     "output_type": "execute_result"
    }
   ],
   "source": [
    "d.keys()"
   ]
  },
  {
   "cell_type": "code",
   "execution_count": 100,
   "id": "5f51c4e1",
   "metadata": {},
   "outputs": [
    {
     "data": {
      "text/plain": [
       "dict_values([23, 56, 100, 90, 98])"
      ]
     },
     "execution_count": 100,
     "metadata": {},
     "output_type": "execute_result"
    }
   ],
   "source": [
    "d.values()"
   ]
  },
  {
   "cell_type": "code",
   "execution_count": null,
   "id": "3a2841e2",
   "metadata": {},
   "outputs": [],
   "source": []
  }
 ],
 "metadata": {
  "kernelspec": {
   "display_name": "Python 3 (ipykernel)",
   "language": "python",
   "name": "python3"
  },
  "language_info": {
   "codemirror_mode": {
    "name": "ipython",
    "version": 3
   },
   "file_extension": ".py",
   "mimetype": "text/x-python",
   "name": "python",
   "nbconvert_exporter": "python",
   "pygments_lexer": "ipython3",
   "version": "3.10.9"
  }
 },
 "nbformat": 4,
 "nbformat_minor": 5
}
