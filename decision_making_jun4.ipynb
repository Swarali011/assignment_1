{
 "cells": [
  {
   "cell_type": "code",
   "execution_count": 1,
   "id": "c8f8a542",
   "metadata": {},
   "outputs": [
    {
     "name": "stdout",
     "output_type": "stream",
     "text": [
      "Enter the number:34\n"
     ]
    }
   ],
   "source": [
    "#check number is >50 or not \n",
    "num=int(input('Enter the number:'))\n",
    "if (num>50):\n",
    "    print('OK')\n",
    "    "
   ]
  },
  {
   "cell_type": "code",
   "execution_count": 2,
   "id": "7c75e3df",
   "metadata": {},
   "outputs": [
    {
     "name": "stdout",
     "output_type": "stream",
     "text": [
      "Enter a number:0\n",
      "Number is negative\n"
     ]
    }
   ],
   "source": [
    "#check if a number is positive \n",
    "num=int(input(\"Enter a number:\"))\n",
    "if(num>0):\n",
    "    print(\"Number is positive\")\n",
    "else:\n",
    "        print(\"Number is negative\")"
   ]
  },
  {
   "cell_type": "code",
   "execution_count": 3,
   "id": "3bc75188",
   "metadata": {},
   "outputs": [
    {
     "name": "stdout",
     "output_type": "stream",
     "text": [
      "Enter a number:8\n",
      "positive\n"
     ]
    }
   ],
   "source": [
    "num=int(input(\"Enter a number:\"))\n",
    "if(num>0):\n",
    "    print('positive')\n",
    "elif(num==0):\n",
    "     print('Zero')\n",
    "else:\n",
    "    print('Negative')"
   ]
  },
  {
   "cell_type": "code",
   "execution_count": 4,
   "id": "167d3240",
   "metadata": {},
   "outputs": [
    {
     "name": "stdout",
     "output_type": "stream",
     "text": [
      "Enter the number:3\n",
      "Number is odd\n"
     ]
    }
   ],
   "source": [
    "#even or odd\n",
    "num=int(input(\"Enter the number:\"))\n",
    "if(num%2==1):\n",
    "    print(\"Number is odd\")\n",
    "else:\n",
    "        print(\"even\")"
   ]
  },
  {
   "cell_type": "code",
   "execution_count": 5,
   "id": "95d0c0fa",
   "metadata": {},
   "outputs": [
    {
     "data": {
      "text/plain": [
       "1"
      ]
     },
     "execution_count": 5,
     "metadata": {},
     "output_type": "execute_result"
    }
   ],
   "source": [
    "int(True)"
   ]
  },
  {
   "cell_type": "code",
   "execution_count": null,
   "id": "3306377d",
   "metadata": {},
   "outputs": [],
   "source": [
    "True+True+False"
   ]
  },
  {
   "cell_type": "code",
   "execution_count": null,
   "id": "4222d36f",
   "metadata": {},
   "outputs": [],
   "source": [
    "#Check whether number is between 50 to 150\n",
    "num=int(input(\"Enter the number:\"))\n",
    "if(num>=50) and (num<=150):\n",
    "    print('Correct')\n",
    "          else:\n",
    "    print('Greater than 150')\n",
    "else:\n",
    "    print('Greater than 50')"
   ]
  },
  {
   "cell_type": "code",
   "execution_count": 15,
   "id": "368775bc",
   "metadata": {},
   "outputs": [
    {
     "name": "stdout",
     "output_type": "stream",
     "text": [
      "Enter the purchase cost:78\n",
      "Enter the selling price:34\n",
      "loss 44\n"
     ]
    }
   ],
   "source": [
    "#read the purchase cost and selling cost \n",
    "#state profit or loss and how much?\n",
    "pur=int(input('Enter the purchase cost:'))\n",
    "sel=int(input(\"Enter the selling price:\"))\n",
    "\n",
    "if(sel>pur):\n",
    "    print(\"There is a profit of rs:\",sel-pur)\n",
    "else:\n",
    "        print('loss',pur-sel)\n"
   ]
  },
  {
   "cell_type": "code",
   "execution_count": 24,
   "id": "5c20c3a2",
   "metadata": {},
   "outputs": [
    {
     "ename": "SyntaxError",
     "evalue": "invalid syntax (770256266.py, line 9)",
     "output_type": "error",
     "traceback": [
      "\u001b[1;36m  Cell \u001b[1;32mIn[24], line 9\u001b[1;36m\u001b[0m\n\u001b[1;33m    else:\u001b[0m\n\u001b[1;37m    ^\u001b[0m\n\u001b[1;31mSyntaxError\u001b[0m\u001b[1;31m:\u001b[0m invalid syntax\n"
     ]
    }
   ],
   "source": [
    "num1=int(input('Enter the first number:'))\n",
    "num2=int(input('Enter the second number:'))\n",
    "num3=int(input('Enter the third number:'))\n",
    "if num1 > num2:\n",
    "    if num1 > num3:\n",
    "        print(\"Num1 is greater:\")\n",
    "else:\n",
    "    print(\"num3 is greater\")\n",
    "else:\n",
    "if num2 > num3:\n",
    "    print(\"num2 is greater\")\n",
    "else:\n",
    "    print(\"num3 is greater\")\n",
    "   "
   ]
  },
  {
   "cell_type": "code",
   "execution_count": 25,
   "id": "32dd5312",
   "metadata": {},
   "outputs": [
    {
     "name": "stdout",
     "output_type": "stream",
     "text": [
      "Enter the year:2006\n",
      "not a leap year\n"
     ]
    }
   ],
   "source": [
    "#wap to find whether leap year or not\n",
    "year=int(input('Enter the year:'))\n",
    "if(year%4==0):\n",
    "    print(\"Leap year\")\n",
    "else:\n",
    "        print(\"not a leap year\")"
   ]
  },
  {
   "cell_type": "code",
   "execution_count": 26,
   "id": "6a259507",
   "metadata": {},
   "outputs": [
    {
     "name": "stdout",
     "output_type": "stream",
     "text": [
      "Enter the year:4000\n",
      "Leap century year:\n"
     ]
    }
   ],
   "source": [
    "year=int(input(\"Enter the year:\"))\n",
    "if year % 4 == 0:\n",
    "    if year % 100 == 0: #checking if century year\n",
    "        if year % 400 ==0: \n",
    "            print('Leap century year:')\n",
    "        else:\n",
    "                print('Century year but not leap')\n",
    "    else:\n",
    "            print('Leap year')\n",
    "else:\n",
    "        print(\"Not a leap year\")\n",
    "    "
   ]
  },
  {
   "cell_type": "code",
   "execution_count": 27,
   "id": "f7fe3909",
   "metadata": {},
   "outputs": [
    {
     "name": "stdout",
     "output_type": "stream",
     "text": [
      "Enter the marks of students45\n",
      "Third class\n"
     ]
    }
   ],
   "source": [
    "# >60 first class >50 second class >40 third class >35 pass <=35 fail\n",
    "marks=int(input(\"Enter the marks of students\"))\n",
    "if marks > 60:\n",
    "     print(\"First class\")\n",
    "elif marks >50:\n",
    "     print(\"Second class\")\n",
    "elif marks >40:\n",
    "    print(\"Third class\")\n",
    "elif marks >35:\n",
    "    print(\"Pass\")\n",
    "elif marks <=35:\n",
    "    print(\"Fail\")\n",
    "        \n",
    "else:\n",
    "    print(\"Wrong value entered\")\n",
    "\n",
    "        \n",
    "        "
   ]
  },
  {
   "cell_type": "code",
   "execution_count": 31,
   "id": "6eac5b93",
   "metadata": {},
   "outputs": [
    {
     "ename": "IndentationError",
     "evalue": "unindent does not match any outer indentation level (<tokenize>, line 15)",
     "output_type": "error",
     "traceback": [
      "\u001b[1;36m  File \u001b[1;32m<tokenize>:15\u001b[1;36m\u001b[0m\n\u001b[1;33m    else:\u001b[0m\n\u001b[1;37m    ^\u001b[0m\n\u001b[1;31mIndentationError\u001b[0m\u001b[1;31m:\u001b[0m unindent does not match any outer indentation level\n"
     ]
    }
   ],
   "source": [
    "#menu driven program for atm machine \n",
    "''' based on the choice it will do square,cube or check +ve -ve '''\n",
    "\n",
    "num=int(input(\"Enter the number\"))\n",
    "print('menu:\\n1.square\\n2.Cube\\n3.Positive\\n4.Negative')\n",
    "choice=int(input('Enter the choice'))\n",
    "\n",
    "if choice== 1 :\n",
    "    print(\"Square is:\",num*num)\n",
    "elif choice==2 :\n",
    "    print(\"Cube is:\",num**3)\n",
    "elif choice==3:\n",
    "         if num>0:\n",
    "              print('positive')\n",
    "    else:\n",
    "              print('Negative')\n",
    "    else: \n",
    "            print(\"Shut up\")\n",
    "    "
   ]
  },
  {
   "cell_type": "code",
   "execution_count": 32,
   "id": "352679f4",
   "metadata": {},
   "outputs": [
    {
     "name": "stdout",
     "output_type": "stream",
     "text": [
      "Enter the number1:34\n",
      "Enter the number2:45\n",
      "menu:\n",
      "1.add\n",
      "2.sub\n",
      "3.div\n",
      "4.positive\n",
      "5.negative\n",
      "Enter the choice2\n",
      "substraction of 2 numbers: -11\n"
     ]
    }
   ],
   "source": [
    "#read 2 numbers and perform add,sub,floor div \n",
    "#which one is greater based on the choice \n",
    "num1=int(input(\"Enter the number1:\"))\n",
    "num2=int(input(\"Enter the number2:\"))\n",
    "print('menu:\\n1.add\\n2.sub\\n3.div\\n4.positive\\n5.negative')\n",
    "choice=int(input('Enter the choice'))\n",
    "if choice==1:\n",
    "    print(\"Addition of 2 numbers:\",num1+num2)\n",
    "elif choice==2:\n",
    "    print(\"substraction of 2 numbers:\",num1-num2)\n",
    "elif choice==3:\n",
    "    print(\"division of 2 numbers:\",num1//num2)\n",
    "elif choice==4:\n",
    "    print(\"Addition of 2 numbers:\",num1+num2)\n",
    "    \n",
    "      \n",
    "        \n",
    "    "
   ]
  },
  {
   "cell_type": "code",
   "execution_count": null,
   "id": "c1699b04",
   "metadata": {},
   "outputs": [],
   "source": []
  }
 ],
 "metadata": {
  "kernelspec": {
   "display_name": "Python 3 (ipykernel)",
   "language": "python",
   "name": "python3"
  },
  "language_info": {
   "codemirror_mode": {
    "name": "ipython",
    "version": 3
   },
   "file_extension": ".py",
   "mimetype": "text/x-python",
   "name": "python",
   "nbconvert_exporter": "python",
   "pygments_lexer": "ipython3",
   "version": "3.10.9"
  }
 },
 "nbformat": 4,
 "nbformat_minor": 5
}
