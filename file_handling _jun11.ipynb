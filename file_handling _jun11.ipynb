{
 "cells": [
  {
   "cell_type": "code",
   "execution_count": 16,
   "id": "fa653561",
   "metadata": {},
   "outputs": [],
   "source": [
    "f = open('abc.txt','r')"
   ]
  },
  {
   "cell_type": "code",
   "execution_count": null,
   "id": "4e8c49df",
   "metadata": {},
   "outputs": [],
   "source": [
    "print(f.name)"
   ]
  },
  {
   "cell_type": "code",
   "execution_count": null,
   "id": "e5b0f9b6",
   "metadata": {},
   "outputs": [],
   "source": [
    "f.close()"
   ]
  },
  {
   "cell_type": "code",
   "execution_count": 15,
   "id": "8e60c984",
   "metadata": {},
   "outputs": [
    {
     "data": {
      "text/plain": [
       "True"
      ]
     },
     "execution_count": 15,
     "metadata": {},
     "output_type": "execute_result"
    }
   ],
   "source": [
    "f.closed"
   ]
  },
  {
   "cell_type": "code",
   "execution_count": 21,
   "id": "cdd4a1cc",
   "metadata": {},
   "outputs": [],
   "source": [
    "f=open('maha.txt','r')"
   ]
  },
  {
   "cell_type": "code",
   "execution_count": 22,
   "id": "3a3c74c6",
   "metadata": {},
   "outputs": [],
   "source": [
    "#open with context manager\n",
    "with open('maha.txt','r')as f:\n",
    "    pass"
   ]
  },
  {
   "cell_type": "code",
   "execution_count": 23,
   "id": "e00ce5a6",
   "metadata": {},
   "outputs": [
    {
     "name": "stdout",
     "output_type": "stream",
     "text": [
      "dfgdfh\n"
     ]
    }
   ],
   "source": [
    "with open('maha.txt','r')as f:\n",
    "    content=f.read()\n",
    "    print(content)"
   ]
  },
  {
   "cell_type": "code",
   "execution_count": 25,
   "id": "94b499df",
   "metadata": {},
   "outputs": [
    {
     "name": "stdout",
     "output_type": "stream",
     "text": [
      "['hellooooooooooooooooo\\n', 'hiiii']\n"
     ]
    }
   ],
   "source": [
    "with open('test1.txt','r')as f:\n",
    "    content=f.readlines()\n",
    "    print(content)"
   ]
  },
  {
   "cell_type": "code",
   "execution_count": 35,
   "id": "c53b0106",
   "metadata": {},
   "outputs": [
    {
     "name": "stdout",
     "output_type": "stream",
     "text": [
      "['hellooooooooooooooooo\\n', 'hiiii'][]"
     ]
    }
   ],
   "source": [
    "with open('test1.txt','r')as f:\n",
    "    content=f.readlines()\n",
    "    print(content,end='')\n",
    "    content=f.readlines()\n",
    "    print(content,end='')"
   ]
  },
  {
   "cell_type": "code",
   "execution_count": 36,
   "id": "df222c1a",
   "metadata": {},
   "outputs": [
    {
     "name": "stdout",
     "output_type": "stream",
     "text": [
      "hellooooooooooooooooo\n",
      "hiiii"
     ]
    }
   ],
   "source": [
    "with open('test1.txt','r')as f:\n",
    "    for line in f:\n",
    "        print(line,end='')"
   ]
  },
  {
   "cell_type": "code",
   "execution_count": 37,
   "id": "7933c28f",
   "metadata": {},
   "outputs": [
    {
     "name": "stdout",
     "output_type": "stream",
     "text": [
      "hel\n"
     ]
    }
   ],
   "source": [
    "#read the 3 characters\n",
    "with open('test1.txt','r')as f:\n",
    "    content=f.read(3)\n",
    "    print(content)"
   ]
  },
  {
   "cell_type": "code",
   "execution_count": 41,
   "id": "6ee93c62",
   "metadata": {},
   "outputs": [
    {
     "name": "stdout",
     "output_type": "stream",
     "text": [
      "hello*ooooo*ooooo*ooooo*o\n",
      "hii*ii*"
     ]
    }
   ],
   "source": [
    "#use while loop to read entire file.. 5 character at a time \n",
    "with open('test1.txt','r')as f:\n",
    "    size=5\n",
    "    content=f.read(size)\n",
    "    while len(content)>0:\n",
    "        print(content,end='*')\n",
    "        content=f.read(size)"
   ]
  },
  {
   "cell_type": "code",
   "execution_count": 50,
   "id": "9d1ec42b",
   "metadata": {},
   "outputs": [
    {
     "name": "stdout",
     "output_type": "stream",
     "text": [
      "hello\n",
      "hello\n"
     ]
    }
   ],
   "source": [
    "#in the 2nd phase start from again\n",
    "with open('test1.txt','r')as f:\n",
    "    size=5\n",
    "    content=f.read(size)\n",
    "    print(content)\n",
    "    content=f.read(size)\n",
    "    f.seek(0) #will start from beginnig\n",
    "    content=f.read(size)\n",
    "    print(content)"
   ]
  },
  {
   "cell_type": "markdown",
   "id": "5e5a6ef1",
   "metadata": {},
   "source": [
    "# write"
   ]
  },
  {
   "cell_type": "code",
   "execution_count": 53,
   "id": "69cf2ec8",
   "metadata": {},
   "outputs": [],
   "source": [
    "with open('write.txt','w') as w:\n",
    "    w.write('my name is lakhan')"
   ]
  },
  {
   "cell_type": "code",
   "execution_count": null,
   "id": "026e2f72",
   "metadata": {},
   "outputs": [],
   "source": [
    "with open('write.txt','w') as w:\n",
    "    w.write('my name is lakhan')\n",
    "    w.write('my name is swara')"
   ]
  },
  {
   "cell_type": "code",
   "execution_count": null,
   "id": "46dae601",
   "metadata": {},
   "outputs": [],
   "source": [
    "with open('write.txt','w') as w:\n",
    "    w.write('my name is lakhan')\n",
    "    \n",
    "    w.seek(0)\n",
    "    w.write('aaaa')"
   ]
  },
  {
   "cell_type": "code",
   "execution_count": null,
   "id": "b764643c",
   "metadata": {},
   "outputs": [],
   "source": [
    "#create a new file which will the copy of maha.txt\n",
    "with open('maha.txt','r') as rf:\n",
    "    with open('maha_copy.txt','w')as w:\n",
    "        for line in rf:\n",
    "            w.write(line)"
   ]
  },
  {
   "cell_type": "code",
   "execution_count": null,
   "id": "81398ae5",
   "metadata": {},
   "outputs": [],
   "source": [
    "#image \n",
    "with open('','rb')as \n",
    "with open('wall_copy','wb')as w:"
   ]
  },
  {
   "cell_type": "code",
   "execution_count": null,
   "id": "ea2448d1",
   "metadata": {},
   "outputs": [],
   "source": []
  }
 ],
 "metadata": {
  "kernelspec": {
   "display_name": "Python 3 (ipykernel)",
   "language": "python",
   "name": "python3"
  },
  "language_info": {
   "codemirror_mode": {
    "name": "ipython",
    "version": 3
   },
   "file_extension": ".py",
   "mimetype": "text/x-python",
   "name": "python",
   "nbconvert_exporter": "python",
   "pygments_lexer": "ipython3",
   "version": "3.10.9"
  }
 },
 "nbformat": 4,
 "nbformat_minor": 5
}
