{
 "cells": [
  {
   "cell_type": "code",
   "execution_count": 1,
   "id": "32677a48",
   "metadata": {},
   "outputs": [
    {
     "name": "stdout",
     "output_type": "stream",
     "text": [
      "Swarali\n",
      "Swarali\n",
      "Swarali\n",
      "Swarali\n",
      "Swarali\n"
     ]
    }
   ],
   "source": [
    "count=1\n",
    "while count <=5:\n",
    "    print('Swarali')\n",
    "    count=count+1"
   ]
  },
  {
   "cell_type": "code",
   "execution_count": 2,
   "id": "fe3f7762",
   "metadata": {},
   "outputs": [
    {
     "name": "stdout",
     "output_type": "stream",
     "text": [
      "5\n",
      "6\n",
      "7\n",
      "8\n",
      "9\n",
      "10\n",
      "11\n",
      "12\n",
      "13\n",
      "14\n",
      "15\n"
     ]
    }
   ],
   "source": [
    "#print numbers from 5 to 15 \n",
    "count=5\n",
    "while count<=15:\n",
    "    print(count)\n",
    "    count=count+1"
   ]
  },
  {
   "cell_type": "code",
   "execution_count": 3,
   "id": "20cb259e",
   "metadata": {},
   "outputs": [
    {
     "name": "stdout",
     "output_type": "stream",
     "text": [
      "Sum= 55\n"
     ]
    }
   ],
   "source": [
    "#print addition from numbers 1 to 10\n",
    "count = 1 \n",
    "add = 0\n",
    "while count <= 10:\n",
    "    add=add+count\n",
    "    count += 1\n",
    "print(\"Sum=\",add)"
   ]
  },
  {
   "cell_type": "code",
   "execution_count": 4,
   "id": "6d38695d",
   "metadata": {},
   "outputs": [
    {
     "name": "stdout",
     "output_type": "stream",
     "text": [
      "11\n"
     ]
    }
   ],
   "source": [
    "print(count)"
   ]
  },
  {
   "cell_type": "code",
   "execution_count": 5,
   "id": "c9be05b6",
   "metadata": {},
   "outputs": [
    {
     "name": "stdout",
     "output_type": "stream",
     "text": [
      "Sum= 100\n"
     ]
    }
   ],
   "source": [
    "#print the addition of all odd numbers from 1 to 20 \n",
    "\n",
    "count = 1 \n",
    "add = 0\n",
    "while count <= 20:\n",
    "    add=add+count\n",
    "    count += 2\n",
    "print(\"Sum=\",add)\n",
    "    "
   ]
  },
  {
   "cell_type": "code",
   "execution_count": 6,
   "id": "a27fdcf5",
   "metadata": {},
   "outputs": [
    {
     "name": "stdout",
     "output_type": "stream",
     "text": [
      "Enter the number:34\n",
      "Loop ended\n",
      "Factorial is  295232799039604140847618609643520000000\n"
     ]
    }
   ],
   "source": [
    "#factorial \n",
    "num=int(input(\"Enter the number:\"))\n",
    "fact=1\n",
    "i=1\n",
    "while i<=num:\n",
    "    fact=fact*i\n",
    "    i=i+1\n",
    "else:\n",
    "    print(\"Loop ended\")\n",
    "print(\"Factorial is \",fact)"
   ]
  },
  {
   "cell_type": "code",
   "execution_count": 7,
   "id": "e4c4dfd1",
   "metadata": {},
   "outputs": [
    {
     "ename": "IndentationError",
     "evalue": "unexpected indent (2540022432.py, line 7)",
     "output_type": "error",
     "traceback": [
      "\u001b[1;36m  Cell \u001b[1;32mIn[7], line 7\u001b[1;36m\u001b[0m\n\u001b[1;33m    print(\"Sum of digits =\",s)\u001b[0m\n\u001b[1;37m    ^\u001b[0m\n\u001b[1;31mIndentationError\u001b[0m\u001b[1;31m:\u001b[0m unexpected indent\n"
     ]
    }
   ],
   "source": [
    "#find the sum of digits in a number\n",
    "num=int(input(\"Enter the number:\"))\n",
    "s=0\n",
    "while num>0:\n",
    "    s=s+num %10\n",
    "    num=num//10\n",
    "       print(\"Sum of digits =\",s)\n",
    "\n",
    "\n"
   ]
  },
  {
   "cell_type": "code",
   "execution_count": 8,
   "id": "45958d8e",
   "metadata": {},
   "outputs": [
    {
     "name": "stdout",
     "output_type": "stream",
     "text": [
      "6\n",
      "16\n",
      "22\n",
      "10\n"
     ]
    }
   ],
   "source": [
    "for n in 12,33,45,21:\n",
    "    print(n//2)"
   ]
  },
  {
   "cell_type": "code",
   "execution_count": 9,
   "id": "baa48003",
   "metadata": {},
   "outputs": [
    {
     "data": {
      "text/plain": [
       "[0, 1, 2, 3, 4]"
      ]
     },
     "execution_count": 9,
     "metadata": {},
     "output_type": "execute_result"
    }
   ],
   "source": [
    "#range funaction\n",
    "list (range(5))"
   ]
  },
  {
   "cell_type": "code",
   "execution_count": 10,
   "id": "5e5538b5",
   "metadata": {},
   "outputs": [
    {
     "data": {
      "text/plain": [
       "[5, 6, 7, 8, 9, 10, 11, 12, 13, 14, 15, 16, 17, 18, 19]"
      ]
     },
     "execution_count": 10,
     "metadata": {},
     "output_type": "execute_result"
    }
   ],
   "source": [
    "list (range(5,20))"
   ]
  },
  {
   "cell_type": "code",
   "execution_count": 11,
   "id": "8e662cac",
   "metadata": {},
   "outputs": [
    {
     "data": {
      "text/plain": [
       "[5, 7, 9, 11, 13, 15, 17, 19]"
      ]
     },
     "execution_count": 11,
     "metadata": {},
     "output_type": "execute_result"
    }
   ],
   "source": [
    "list (range(5,20,2))"
   ]
  },
  {
   "cell_type": "code",
   "execution_count": 12,
   "id": "a52a9d72",
   "metadata": {},
   "outputs": [],
   "source": [
    "#range (start,end+1,step)"
   ]
  },
  {
   "cell_type": "code",
   "execution_count": 13,
   "id": "23ca6db5",
   "metadata": {},
   "outputs": [
    {
     "name": "stdout",
     "output_type": "stream",
     "text": [
      "1\n",
      "2\n",
      "3\n",
      "4\n",
      "5\n",
      "6\n",
      "7\n",
      "8\n",
      "9\n",
      "10\n"
     ]
    }
   ],
   "source": [
    "for n in range(1,11):\n",
    "    print(n)"
   ]
  },
  {
   "cell_type": "code",
   "execution_count": 14,
   "id": "62d3553a",
   "metadata": {},
   "outputs": [
    {
     "name": "stdout",
     "output_type": "stream",
     "text": [
      "1\n",
      "Addition = 1\n",
      "3\n",
      "Addition = 4\n",
      "5\n",
      "Addition = 9\n",
      "7\n",
      "Addition = 16\n",
      "9\n",
      "Addition = 25\n",
      "11\n",
      "Addition = 36\n",
      "13\n",
      "Addition = 49\n",
      "15\n",
      "Addition = 64\n",
      "17\n",
      "Addition = 81\n",
      "19\n",
      "Addition = 100\n"
     ]
    }
   ],
   "source": [
    "#addition of odd numbers from 1 to 20 \n",
    "add=0\n",
    "for n in range(1,21,2):\n",
    "    print(n)\n",
    "    add=add+n\n",
    "    print(\"Addition =\",add)"
   ]
  },
  {
   "cell_type": "code",
   "execution_count": 15,
   "id": "e24f6d84",
   "metadata": {},
   "outputs": [
    {
     "name": "stdout",
     "output_type": "stream",
     "text": [
      "S\n",
      "w\n",
      "a\n",
      "r\n",
      "a\n",
      "l\n",
      "i\n"
     ]
    }
   ],
   "source": [
    "for n in \"Swarali\":\n",
    "    print(n)"
   ]
  },
  {
   "cell_type": "code",
   "execution_count": 16,
   "id": "4f04e3d0",
   "metadata": {},
   "outputs": [
    {
     "name": "stdout",
     "output_type": "stream",
     "text": [
      "Enter the number:3\n",
      "1\n",
      "2\n",
      "6\n"
     ]
    }
   ],
   "source": [
    "#find factorial of number using for loop\n",
    "num=int(input(\"Enter the number:\"))\n",
    "fact=1\n",
    "for i in range(1,num+1):\n",
    "    \n",
    "    fact=fact*i\n",
    "    \n",
    "    print(fact)"
   ]
  },
  {
   "cell_type": "code",
   "execution_count": 17,
   "id": "8c7ad1f8",
   "metadata": {},
   "outputs": [
    {
     "name": "stdout",
     "output_type": "stream",
     "text": [
      "1\n",
      "2\n",
      "3\n",
      "4\n"
     ]
    }
   ],
   "source": [
    "#break statement \n",
    "for n in range(1,10):\n",
    "    if n==5:\n",
    "        break\n",
    "    print(n)"
   ]
  },
  {
   "cell_type": "code",
   "execution_count": 18,
   "id": "6b609f3f",
   "metadata": {},
   "outputs": [
    {
     "data": {
      "text/plain": [
       "5"
      ]
     },
     "execution_count": 18,
     "metadata": {},
     "output_type": "execute_result"
    }
   ],
   "source": [
    "n"
   ]
  },
  {
   "cell_type": "code",
   "execution_count": 19,
   "id": "bc4a1743",
   "metadata": {},
   "outputs": [
    {
     "name": "stdout",
     "output_type": "stream",
     "text": [
      "0\n",
      "1\n",
      "2\n",
      "3\n",
      "4\n",
      "5\n"
     ]
    }
   ],
   "source": [
    "count=0\n",
    "while count<10:\n",
    "    print(count)\n",
    "    if count==5:\n",
    "        break\n",
    "    count+=1\n",
    "        "
   ]
  },
  {
   "cell_type": "code",
   "execution_count": 20,
   "id": "c30f5e34",
   "metadata": {},
   "outputs": [],
   "source": [
    "#continue \n",
    "for n in range(1,10):\n",
    "    if n==5:\n",
    "        continue \n",
    "        \n",
    "        \n",
    "            \n",
    "        print(n)"
   ]
  },
  {
   "cell_type": "code",
   "execution_count": 21,
   "id": "646acfeb",
   "metadata": {},
   "outputs": [
    {
     "name": "stdout",
     "output_type": "stream",
     "text": [
      "2\n",
      "4\n",
      "6\n",
      "8\n",
      "10\n",
      "12\n"
     ]
    }
   ],
   "source": [
    "#print odd numbers from 1 to 12 using continue statement\n",
    "for n in range(1,13):\n",
    "    if n%2==1:\n",
    "        continue \n",
    "    print(n)\n",
    "        \n",
    "        "
   ]
  },
  {
   "cell_type": "code",
   "execution_count": 22,
   "id": "768d2913",
   "metadata": {},
   "outputs": [],
   "source": [
    "#pass\n",
    "num=5 \n",
    "if num>1:\n",
    "    pass "
   ]
  },
  {
   "cell_type": "code",
   "execution_count": 24,
   "id": "cd29a4e3",
   "metadata": {},
   "outputs": [
    {
     "ename": "SyntaxError",
     "evalue": "expected ':' (3542252503.py, line 4)",
     "output_type": "error",
     "traceback": [
      "\u001b[1;36m  Cell \u001b[1;32mIn[24], line 4\u001b[1;36m\u001b[0m\n\u001b[1;33m    while(j<=i)\u001b[0m\n\u001b[1;37m               ^\u001b[0m\n\u001b[1;31mSyntaxError\u001b[0m\u001b[1;31m:\u001b[0m expected ':'\n"
     ]
    }
   ],
   "source": [
    "#nested loops\n",
    "i=1\n",
    "while(i<=4):\n",
    "        while(j<=i)\n",
    "        print(\"*\")\n",
    "print(\"\\t\")\n",
    "        "
   ]
  },
  {
   "cell_type": "code",
   "execution_count": null,
   "id": "6052d0bb",
   "metadata": {},
   "outputs": [],
   "source": []
  },
  {
   "cell_type": "markdown",
   "id": "742b7172",
   "metadata": {},
   "source": [
    "### "
   ]
  },
  {
   "cell_type": "code",
   "execution_count": null,
   "id": "ecb592c3",
   "metadata": {},
   "outputs": [],
   "source": []
  }
 ],
 "metadata": {
  "kernelspec": {
   "display_name": "Python 3 (ipykernel)",
   "language": "python",
   "name": "python3"
  },
  "language_info": {
   "codemirror_mode": {
    "name": "ipython",
    "version": 3
   },
   "file_extension": ".py",
   "mimetype": "text/x-python",
   "name": "python",
   "nbconvert_exporter": "python",
   "pygments_lexer": "ipython3",
   "version": "3.10.9"
  }
 },
 "nbformat": 4,
 "nbformat_minor": 5
}
